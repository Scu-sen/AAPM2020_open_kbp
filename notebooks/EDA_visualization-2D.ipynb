{
 "cells": [
  {
   "cell_type": "code",
   "execution_count": 1,
   "metadata": {},
   "outputs": [],
   "source": [
    "import os, sys\n",
    "if not os.path.exists('./dl.yml'):\n",
    "    os.chdir(os.path.expanduser('..'))\n",
    "    \n",
    "import numpy as np\n",
    "import pandas as pd\n",
    "import torch\n",
    "import time\n",
    "import matplotlib.pyplot as plt\n",
    "import mplcursors\n",
    "from fastprogress.fastprogress import progress_bar as tqdm\n",
    "from functools import partial\n",
    "import cv2\n",
    "from functools import partial\n",
    "\n",
    "from ipywidgets import interact, interactive, fixed, interact_manual\n",
    "import ipywidgets as widgets\n",
    "\n",
    "from utils.dataloader2D import KBPDataset2D\n",
    "from config.config import config\n",
    "\n",
    "%matplotlib notebook\n",
    "%matplotlib inline"
   ]
  },
  {
   "cell_type": "code",
   "execution_count": 2,
   "metadata": {},
   "outputs": [],
   "source": [
    "config.loadjaehee = True\n",
    "config.nloadjaehee = 12"
   ]
  },
  {
   "cell_type": "code",
   "execution_count": 3,
   "metadata": {},
   "outputs": [],
   "source": [
    "data_df = pd.read_csv(config.DATA_CSV_PATH)\n",
    "split_train_mask = (data_df['Fold'] != 'Fold0') & (data_df['Fold'] != 'Fold1')\n",
    "train_df = data_df[split_train_mask & (data_df['Split'] == 'Train')].reset_index(drop=True)\n",
    "valid_df = data_df[(~split_train_mask) & (data_df['Split'] == 'Train')].reset_index(drop=True)\n",
    "test_df = data_df[data_df['Split'] == 'Test'].reset_index(drop=True)\n",
    "# train_ds = KBPDataset2D(config, train_df)\n",
    "# valid_ds = KBPDataset2D(config, valid_df)\n",
    "# test_ds = KBPDataset2D(config, test_df, training=False)"
   ]
  },
  {
   "cell_type": "code",
   "execution_count": 4,
   "metadata": {},
   "outputs": [
    {
     "name": "stdout",
     "output_type": "stream",
     "text": [
      "Using Concat Dataset\n",
      "Loading data along axis: 3\n"
     ]
    },
    {
     "data": {
      "text/html": [
       "\n",
       "    <div>\n",
       "        <style>\n",
       "            /* Turns off some styling */\n",
       "            progress {\n",
       "                /* gets rid of default border in Firefox and Opera. */\n",
       "                border: none;\n",
       "                /* Needs to be in here for Safari polyfill so background images work as expected. */\n",
       "                background-size: auto;\n",
       "            }\n",
       "            .progress-bar-interrupted, .progress-bar-interrupted::-webkit-progress-bar {\n",
       "                background: #F44336;\n",
       "            }\n",
       "        </style>\n",
       "      <progress value='20' class='' max='20', style='width:300px; height:20px; vertical-align: middle;'></progress>\n",
       "      100.00% [20/20 00:06<00:00]\n",
       "    </div>\n",
       "    "
      ],
      "text/plain": [
       "<IPython.core.display.HTML object>"
      ]
     },
     "metadata": {},
     "output_type": "display_data"
    }
   ],
   "source": [
    "train_ds = KBPDataset2D(config, train_df[:20])"
   ]
  },
  {
   "cell_type": "code",
   "execution_count": 5,
   "metadata": {},
   "outputs": [
    {
     "data": {
      "text/html": [
       "<div>\n",
       "<style scoped>\n",
       "    .dataframe tbody tr th:only-of-type {\n",
       "        vertical-align: middle;\n",
       "    }\n",
       "\n",
       "    .dataframe tbody tr th {\n",
       "        vertical-align: top;\n",
       "    }\n",
       "\n",
       "    .dataframe thead th {\n",
       "        text-align: right;\n",
       "    }\n",
       "</style>\n",
       "<table border=\"1\" class=\"dataframe\">\n",
       "  <thead>\n",
       "    <tr style=\"text-align: right;\">\n",
       "      <th></th>\n",
       "      <th>Id</th>\n",
       "      <th>Split</th>\n",
       "      <th>Fold</th>\n",
       "      <th>Type(Full/Head/Unclean/Bad)</th>\n",
       "      <th>loadj</th>\n",
       "    </tr>\n",
       "  </thead>\n",
       "  <tbody>\n",
       "    <tr>\n",
       "      <th>0</th>\n",
       "      <td>./data/train-pats/pt_2</td>\n",
       "      <td>Train</td>\n",
       "      <td>Fold2</td>\n",
       "      <td>F</td>\n",
       "      <td>True</td>\n",
       "    </tr>\n",
       "    <tr>\n",
       "      <th>1</th>\n",
       "      <td>./data/train-pats/pt_3</td>\n",
       "      <td>Train</td>\n",
       "      <td>Fold2</td>\n",
       "      <td>F</td>\n",
       "      <td>True</td>\n",
       "    </tr>\n",
       "    <tr>\n",
       "      <th>2</th>\n",
       "      <td>./data/train-pats/pt_5</td>\n",
       "      <td>Train</td>\n",
       "      <td>Fold3</td>\n",
       "      <td>H</td>\n",
       "      <td>True</td>\n",
       "    </tr>\n",
       "    <tr>\n",
       "      <th>3</th>\n",
       "      <td>./data/train-pats/pt_6</td>\n",
       "      <td>Train</td>\n",
       "      <td>Fold2</td>\n",
       "      <td>H</td>\n",
       "      <td>True</td>\n",
       "    </tr>\n",
       "    <tr>\n",
       "      <th>4</th>\n",
       "      <td>./data/train-pats/pt_7</td>\n",
       "      <td>Train</td>\n",
       "      <td>Fold4</td>\n",
       "      <td>F</td>\n",
       "      <td>True</td>\n",
       "    </tr>\n",
       "    <tr>\n",
       "      <th>5</th>\n",
       "      <td>./data/train-pats/pt_8</td>\n",
       "      <td>Train</td>\n",
       "      <td>Fold3</td>\n",
       "      <td>F</td>\n",
       "      <td>True</td>\n",
       "    </tr>\n",
       "    <tr>\n",
       "      <th>6</th>\n",
       "      <td>./data/train-pats/pt_10</td>\n",
       "      <td>Train</td>\n",
       "      <td>Fold3</td>\n",
       "      <td>F</td>\n",
       "      <td>True</td>\n",
       "    </tr>\n",
       "    <tr>\n",
       "      <th>7</th>\n",
       "      <td>./data/train-pats/pt_11</td>\n",
       "      <td>Train</td>\n",
       "      <td>Fold4</td>\n",
       "      <td>H</td>\n",
       "      <td>True</td>\n",
       "    </tr>\n",
       "    <tr>\n",
       "      <th>8</th>\n",
       "      <td>./data/train-pats/pt_13</td>\n",
       "      <td>Train</td>\n",
       "      <td>Fold4</td>\n",
       "      <td>F</td>\n",
       "      <td>False</td>\n",
       "    </tr>\n",
       "    <tr>\n",
       "      <th>9</th>\n",
       "      <td>./data/train-pats/pt_15</td>\n",
       "      <td>Train</td>\n",
       "      <td>Fold4</td>\n",
       "      <td>F</td>\n",
       "      <td>False</td>\n",
       "    </tr>\n",
       "    <tr>\n",
       "      <th>10</th>\n",
       "      <td>./data/train-pats/pt_16</td>\n",
       "      <td>Train</td>\n",
       "      <td>Fold3</td>\n",
       "      <td>H</td>\n",
       "      <td>False</td>\n",
       "    </tr>\n",
       "    <tr>\n",
       "      <th>11</th>\n",
       "      <td>./data/train-pats/pt_17</td>\n",
       "      <td>Train</td>\n",
       "      <td>Fold2</td>\n",
       "      <td>F</td>\n",
       "      <td>False</td>\n",
       "    </tr>\n",
       "    <tr>\n",
       "      <th>12</th>\n",
       "      <td>./data/train-pats/pt_20</td>\n",
       "      <td>Train</td>\n",
       "      <td>Fold2</td>\n",
       "      <td>F</td>\n",
       "      <td>False</td>\n",
       "    </tr>\n",
       "    <tr>\n",
       "      <th>13</th>\n",
       "      <td>./data/train-pats/pt_22</td>\n",
       "      <td>Train</td>\n",
       "      <td>Fold2</td>\n",
       "      <td>F</td>\n",
       "      <td>False</td>\n",
       "    </tr>\n",
       "    <tr>\n",
       "      <th>14</th>\n",
       "      <td>./data/train-pats/pt_23</td>\n",
       "      <td>Train</td>\n",
       "      <td>Fold3</td>\n",
       "      <td>F</td>\n",
       "      <td>False</td>\n",
       "    </tr>\n",
       "    <tr>\n",
       "      <th>15</th>\n",
       "      <td>./data/train-pats/pt_24</td>\n",
       "      <td>Train</td>\n",
       "      <td>Fold4</td>\n",
       "      <td>F</td>\n",
       "      <td>False</td>\n",
       "    </tr>\n",
       "    <tr>\n",
       "      <th>16</th>\n",
       "      <td>./data/train-pats/pt_25</td>\n",
       "      <td>Train</td>\n",
       "      <td>Fold4</td>\n",
       "      <td>H</td>\n",
       "      <td>False</td>\n",
       "    </tr>\n",
       "    <tr>\n",
       "      <th>17</th>\n",
       "      <td>./data/train-pats/pt_26</td>\n",
       "      <td>Train</td>\n",
       "      <td>Fold4</td>\n",
       "      <td>F</td>\n",
       "      <td>False</td>\n",
       "    </tr>\n",
       "    <tr>\n",
       "      <th>18</th>\n",
       "      <td>./data/train-pats/pt_27</td>\n",
       "      <td>Train</td>\n",
       "      <td>Fold2</td>\n",
       "      <td>F</td>\n",
       "      <td>False</td>\n",
       "    </tr>\n",
       "    <tr>\n",
       "      <th>19</th>\n",
       "      <td>./data/train-pats/pt_29</td>\n",
       "      <td>Train</td>\n",
       "      <td>Fold4</td>\n",
       "      <td>F</td>\n",
       "      <td>False</td>\n",
       "    </tr>\n",
       "  </tbody>\n",
       "</table>\n",
       "</div>"
      ],
      "text/plain": [
       "                         Id  Split   Fold Type(Full/Head/Unclean/Bad)  loadj\n",
       "0    ./data/train-pats/pt_2  Train  Fold2                           F   True\n",
       "1    ./data/train-pats/pt_3  Train  Fold2                           F   True\n",
       "2    ./data/train-pats/pt_5  Train  Fold3                           H   True\n",
       "3    ./data/train-pats/pt_6  Train  Fold2                           H   True\n",
       "4    ./data/train-pats/pt_7  Train  Fold4                           F   True\n",
       "5    ./data/train-pats/pt_8  Train  Fold3                           F   True\n",
       "6   ./data/train-pats/pt_10  Train  Fold3                           F   True\n",
       "7   ./data/train-pats/pt_11  Train  Fold4                           H   True\n",
       "8   ./data/train-pats/pt_13  Train  Fold4                           F  False\n",
       "9   ./data/train-pats/pt_15  Train  Fold4                           F  False\n",
       "10  ./data/train-pats/pt_16  Train  Fold3                           H  False\n",
       "11  ./data/train-pats/pt_17  Train  Fold2                           F  False\n",
       "12  ./data/train-pats/pt_20  Train  Fold2                           F  False\n",
       "13  ./data/train-pats/pt_22  Train  Fold2                           F  False\n",
       "14  ./data/train-pats/pt_23  Train  Fold3                           F  False\n",
       "15  ./data/train-pats/pt_24  Train  Fold4                           F  False\n",
       "16  ./data/train-pats/pt_25  Train  Fold4                           H  False\n",
       "17  ./data/train-pats/pt_26  Train  Fold4                           F  False\n",
       "18  ./data/train-pats/pt_27  Train  Fold2                           F  False\n",
       "19  ./data/train-pats/pt_29  Train  Fold4                           F  False"
      ]
     },
     "execution_count": 5,
     "metadata": {},
     "output_type": "execute_result"
    }
   ],
   "source": [
    "train_ds.data_df"
   ]
  },
  {
   "cell_type": "code",
   "execution_count": null,
   "metadata": {},
   "outputs": [],
   "source": []
  },
  {
   "cell_type": "code",
   "execution_count": 6,
   "metadata": {},
   "outputs": [],
   "source": [
    "# bad_df = data_df[data_df['Type(Full/Head/Unclean/Bad)'] == 'B'].reset_index(drop=True)\n",
    "# train_ds = KBPDataset2D(config, bad_df, training=False)"
   ]
  },
  {
   "cell_type": "code",
   "execution_count": 7,
   "metadata": {},
   "outputs": [
    {
     "data": {
      "text/html": [
       "<div>\n",
       "<style scoped>\n",
       "    .dataframe tbody tr th:only-of-type {\n",
       "        vertical-align: middle;\n",
       "    }\n",
       "\n",
       "    .dataframe tbody tr th {\n",
       "        vertical-align: top;\n",
       "    }\n",
       "\n",
       "    .dataframe thead th {\n",
       "        text-align: right;\n",
       "    }\n",
       "</style>\n",
       "<table border=\"1\" class=\"dataframe\">\n",
       "  <thead>\n",
       "    <tr style=\"text-align: right;\">\n",
       "      <th></th>\n",
       "      <th>Id</th>\n",
       "      <th>Split</th>\n",
       "      <th>Fold</th>\n",
       "      <th>Type(Full/Head/Unclean/Bad)</th>\n",
       "      <th>loadj</th>\n",
       "    </tr>\n",
       "  </thead>\n",
       "  <tbody>\n",
       "    <tr>\n",
       "      <th>0</th>\n",
       "      <td>./data/train-pats/pt_2</td>\n",
       "      <td>Train</td>\n",
       "      <td>Fold2</td>\n",
       "      <td>F</td>\n",
       "      <td>True</td>\n",
       "    </tr>\n",
       "    <tr>\n",
       "      <th>1</th>\n",
       "      <td>./data/train-pats/pt_3</td>\n",
       "      <td>Train</td>\n",
       "      <td>Fold2</td>\n",
       "      <td>F</td>\n",
       "      <td>True</td>\n",
       "    </tr>\n",
       "    <tr>\n",
       "      <th>2</th>\n",
       "      <td>./data/train-pats/pt_5</td>\n",
       "      <td>Train</td>\n",
       "      <td>Fold3</td>\n",
       "      <td>H</td>\n",
       "      <td>True</td>\n",
       "    </tr>\n",
       "    <tr>\n",
       "      <th>3</th>\n",
       "      <td>./data/train-pats/pt_6</td>\n",
       "      <td>Train</td>\n",
       "      <td>Fold2</td>\n",
       "      <td>H</td>\n",
       "      <td>True</td>\n",
       "    </tr>\n",
       "    <tr>\n",
       "      <th>4</th>\n",
       "      <td>./data/train-pats/pt_7</td>\n",
       "      <td>Train</td>\n",
       "      <td>Fold4</td>\n",
       "      <td>F</td>\n",
       "      <td>True</td>\n",
       "    </tr>\n",
       "  </tbody>\n",
       "</table>\n",
       "</div>"
      ],
      "text/plain": [
       "                       Id  Split   Fold Type(Full/Head/Unclean/Bad)  loadj\n",
       "0  ./data/train-pats/pt_2  Train  Fold2                           F   True\n",
       "1  ./data/train-pats/pt_3  Train  Fold2                           F   True\n",
       "2  ./data/train-pats/pt_5  Train  Fold3                           H   True\n",
       "3  ./data/train-pats/pt_6  Train  Fold2                           H   True\n",
       "4  ./data/train-pats/pt_7  Train  Fold4                           F   True"
      ]
     },
     "execution_count": 7,
     "metadata": {},
     "output_type": "execute_result"
    }
   ],
   "source": [
    "train_ds.data_df.head()"
   ]
  },
  {
   "cell_type": "code",
   "execution_count": 44,
   "metadata": {},
   "outputs": [
    {
     "name": "stdout",
     "output_type": "stream",
     "text": [
      "disk\n",
      "CPU times: user 27.5 ms, sys: 7.27 ms, total: 34.7 ms\n",
      "Wall time: 38.1 ms\n"
     ]
    },
    {
     "data": {
      "text/plain": [
       "2.201566"
      ]
     },
     "execution_count": 44,
     "metadata": {},
     "output_type": "execute_result"
    }
   ],
   "source": [
    "%%time\n",
    "iidx = 16\n",
    "sidx = 76\n",
    "img, (target, possible_dose_mask, structure_masks, voxel_size, idx, is_pseudo) = train_ds[iidx*128+sidx]\n",
    "img.mean()"
   ]
  },
  {
   "cell_type": "code",
   "execution_count": 45,
   "metadata": {},
   "outputs": [
    {
     "data": {
      "text/plain": [
       "(315, 128, 128)"
      ]
     },
     "execution_count": 45,
     "metadata": {},
     "output_type": "execute_result"
    }
   ],
   "source": [
    "img.shape"
   ]
  },
  {
   "cell_type": "code",
   "execution_count": 46,
   "metadata": {},
   "outputs": [
    {
     "data": {
      "text/plain": [
       "<matplotlib.image.AxesImage at 0x7ffa12f3a8d0>"
      ]
     },
     "execution_count": 46,
     "metadata": {},
     "output_type": "execute_result"
    },
    {
     "data": {
      "image/png": "[encoded data removed]",
      "text/plain": [
       "<Figure size 1152x648 with 3 Axes>"
      ]
     },
     "metadata": {
      "needs_background": "light"
     },
     "output_type": "display_data"
    }
   ],
   "source": [
    "fig, ax = plt.subplots(nrows=1, ncols=3, figsize=(16,9))\n",
    "ax[0].imshow(img[60])\n",
    "ax[1].imshow(possible_dose_mask[0])\n",
    "ax[2].imshow(target[0])\n"
   ]
  },
  {
   "cell_type": "code",
   "execution_count": null,
   "metadata": {},
   "outputs": [],
   "source": []
  },
  {
   "cell_type": "code",
   "execution_count": 10,
   "metadata": {},
   "outputs": [],
   "source": [
    "def info(img, x, y):\n",
    "    x = np.round(x).astype('int')\n",
    "    y = np.round(y).astype('int')\n",
    "    val = img[y, x]\n",
    "    line = \"x={}, y={}, val={}\".format(x, y, val)\n",
    "    return line\n",
    "\n",
    "def f(ds, voxel_sz, iidx=0, sidx=0):\n",
    "    tidx = iidx*128+sidx\n",
    "    img, (target, possible_dose_mask, structure_masks, voxel_size, idx, is_pseudo) = ds[tidx]\n",
    "    fig, ax = plt.subplots(nrows=1, ncols=4, figsize=(12,3))\n",
    "    for a in ax:\n",
    "        a.axis('off')\n",
    "    ax[0].imshow(img[36])\n",
    "    ax[0].set_title('Image')\n",
    "    ax[0].format_coord = partial(info, img[36])\n",
    "    ax[1].imshow(target[0])\n",
    "    ax[1].set_title('Target')\n",
    "    ax[1].format_coord = partial(info, target[0])\n",
    "    ax[2].imshow(possible_dose_mask[0])\n",
    "    ax[2].set_title('Possible Dose Mask')\n",
    "    ax[2].format_coord = partial(info, possible_dose_mask[0])\n",
    "    ax[3].imshow(structure_masks[9])\n",
    "    ax[3].set_title('PTV70')\n",
    "    ax[3].format_coord = partial(info, structure_masks[9])\n",
    "    mplcursors.cursor(hover=True)\n",
    "    mplcursors.cursor(bindings={\"toggle_visible\": \"h\", \"toggle_enabled\": \"e\"}) # Shift+<arrow keys> to move\n",
    "    fig.tight_layout()\n",
    "    voxel_sz.value = str(voxel_size)"
   ]
  },
  {
   "cell_type": "code",
   "execution_count": 11,
   "metadata": {},
   "outputs": [
    {
     "data": {
      "application/vnd.jupyter.widget-view+json": {
       "model_id": "09fc2fdcddbb46abb65e27928efbf997",
       "version_major": 2,
       "version_minor": 0
      },
      "text/plain": [
       "HBox(children=(IntSlider(value=0, description='Image Idx:', max=19), IntSlider(value=0, description='Slice Idx…"
      ]
     },
     "metadata": {},
     "output_type": "display_data"
    },
    {
     "data": {
      "application/vnd.jupyter.widget-view+json": {
       "model_id": "bc8ddf2b24e549da99a0419292113fef",
       "version_major": 2,
       "version_minor": 0
      },
      "text/plain": [
       "HBox(children=(BoundedIntText(value=0, description='Image Idx:', max=19), BoundedIntText(value=76, description…"
      ]
     },
     "metadata": {},
     "output_type": "display_data"
    },
    {
     "data": {
      "application/vnd.jupyter.widget-view+json": {
       "model_id": "b9e0064e8329410293e810e7b1e833ac",
       "version_major": 2,
       "version_minor": 0
      },
      "text/plain": [
       "Output()"
      ]
     },
     "metadata": {},
     "output_type": "display_data"
    }
   ],
   "source": [
    "config.resample_slice = [2.25, 2.25]\n",
    "ibt = widgets.BoundedIntText(value=0, min=0, max=len(train_ds.data_df)-1, step=1, description='Image Idx:', disabled=False)\n",
    "isl = widgets.IntSlider(min=0, max=len(train_ds.data_df)-1, description='Image Idx:')\n",
    "widgets.jslink((ibt, 'value'), (isl, 'value'))\n",
    "\n",
    "sbt = widgets.BoundedIntText(value=76, min=0, max=127, step=1, description='Slice Idx:', disabled=False)\n",
    "ssl = widgets.IntSlider(min=0, max=127, description='Slice Idx:')\n",
    "widgets.jslink((sbt, 'value'), (ssl, 'value'))\n",
    "\n",
    "voxel_sz = widgets.Text(value='', description='Voxel size:', disabled=False)\n",
    "\n",
    "bts = widgets.HBox([ibt, sbt])\n",
    "sls = widgets.HBox([isl, ssl, voxel_sz])\n",
    "display(sls)\n",
    "\n",
    "out = widgets.interactive_output(f, {'iidx': ibt, 'sidx': sbt, 'ds': fixed(train_ds), 'voxel_sz': fixed(voxel_sz)})\n",
    "\n",
    "# interact(f, iidx=ibt, sidx=sbt, ds=fixed(train_ds))\n",
    "display(bts, out)"
   ]
  },
  {
   "cell_type": "code",
   "execution_count": 20,
   "metadata": {},
   "outputs": [
    {
     "data": {
      "application/vnd.jupyter.widget-view+json": {
       "model_id": "f3ceaf12ffb44771a8056dcb28521180",
       "version_major": 2,
       "version_minor": 0
      },
      "text/plain": [
       "HBox(children=(IntSlider(value=0, description='Image Idx:', max=19), IntSlider(value=0, description='Slice Idx…"
      ]
     },
     "metadata": {},
     "output_type": "display_data"
    },
    {
     "data": {
      "application/vnd.jupyter.widget-view+json": {
       "model_id": "fa96918224934e218808f47b1f2f50cd",
       "version_major": 2,
       "version_minor": 0
      },
      "text/plain": [
       "HBox(children=(BoundedIntText(value=0, description='Image Idx:', max=19), BoundedIntText(value=76, description…"
      ]
     },
     "metadata": {},
     "output_type": "display_data"
    },
    {
     "data": {
      "application/vnd.jupyter.widget-view+json": {
       "model_id": "6359744b10da49d98c4399c9d2f516ce",
       "version_major": 2,
       "version_minor": 0
      },
      "text/plain": [
       "Output()"
      ]
     },
     "metadata": {},
     "output_type": "display_data"
    }
   ],
   "source": [
    "config.resample_slice = None\n",
    "ibt = widgets.BoundedIntText(value=0, min=0, max=len(train_ds.data_df)-1, step=1, description='Image Idx:', disabled=False)\n",
    "isl = widgets.IntSlider(min=0, max=len(train_ds.data_df)-1, description='Image Idx:')\n",
    "widgets.jslink((ibt, 'value'), (isl, 'value'))\n",
    "\n",
    "sbt = widgets.BoundedIntText(value=76, min=0, max=127, step=1, description='Slice Idx:', disabled=False)\n",
    "ssl = widgets.IntSlider(min=0, max=127, description='Slice Idx:')\n",
    "widgets.jslink((sbt, 'value'), (ssl, 'value'))\n",
    "\n",
    "voxel_sz = widgets.Text(value='', description='Voxel size:', disabled=False)\n",
    "\n",
    "bts = widgets.HBox([ibt, sbt])\n",
    "sls = widgets.HBox([isl, ssl, voxel_sz])\n",
    "display(sls)\n",
    "\n",
    "out = widgets.interactive_output(f, {'iidx': ibt, 'sidx': sbt, 'ds': fixed(train_ds_orig), 'voxel_sz': fixed(voxel_sz)})\n",
    "\n",
    "# interact(f, iidx=ibt, sidx=sbt, ds=fixed(train_ds))\n",
    "display(bts, out)"
   ]
  },
  {
   "cell_type": "code",
   "execution_count": 9,
   "metadata": {},
   "outputs": [
    {
     "ename": "AssertionError",
     "evalue": "",
     "output_type": "error",
     "traceback": [
      "\u001b[0;31m---------------------------------------------------------------------------\u001b[0m",
      "\u001b[0;31mAssertionError\u001b[0m                            Traceback (most recent call last)",
      "\u001b[0;32m<ipython-input-9-fec467e92747>\u001b[0m in \u001b[0;36m<module>\u001b[0;34m\u001b[0m\n\u001b[0;32m----> 1\u001b[0;31m \u001b[0;32massert\u001b[0m \u001b[0;36m0\u001b[0m \u001b[0;34m==\u001b[0m \u001b[0;36m1\u001b[0m\u001b[0;34m\u001b[0m\u001b[0;34m\u001b[0m\u001b[0m\n\u001b[0m",
      "\u001b[0;31mAssertionError\u001b[0m: "
     ]
    }
   ],
   "source": [
    "assert 0 == 1"
   ]
  },
  {
   "cell_type": "code",
   "execution_count": null,
   "metadata": {},
   "outputs": [],
   "source": []
  },
  {
   "cell_type": "markdown",
   "metadata": {},
   "source": [
    "## Data Augmentation"
   ]
  },
  {
   "cell_type": "code",
   "execution_count": 53,
   "metadata": {},
   "outputs": [],
   "source": [
    "# from albumentations.core.transforms_interface import DualTransform, to_tuple\n",
    "try:\n",
    "    del sys.modules['utils.preprocessing2D'], get_train_tfms, VerticalFlip, RandomCrop, RandomRotate90, GaussianBlur, MonaiElastic, MonaiAffine, HorizontalFlip, RandomScale, RandomShift, RandomRotate, MultiplicativeNoise, Presize, Diffeomorph\n",
    "    del sys.modules['utils.dataloader2D'], KBPDataset2D\n",
    "except:\n",
    "    print('not deleting')\n",
    "os.chdir(os.getcwd())\n",
    "from utils.preprocessing2D import get_train_tfms, VerticalFlip, RandomCrop, RandomRotate90, GaussianBlur, MonaiElastic, MonaiAffine, HorizontalFlip, RandomScale, RandomShift, RandomRotate, MultiplicativeNoise, Presize, Diffeomorph\n",
    "from utils.dataloader2D import KBPDataset2D\n",
    "\n",
    "from albumentations import Compose, to_tuple, OneOf, DualTransform"
   ]
  },
  {
   "cell_type": "code",
   "execution_count": null,
   "metadata": {},
   "outputs": [],
   "source": [
    "aug = HorizontalFlip(config.axis)"
   ]
  },
  {
   "cell_type": "code",
   "execution_count": null,
   "metadata": {},
   "outputs": [],
   "source": [
    "aug = RandomScale(scale_limit=0.5)"
   ]
  },
  {
   "cell_type": "code",
   "execution_count": null,
   "metadata": {},
   "outputs": [],
   "source": [
    "aug = RandomShift(shift_limit=20)"
   ]
  },
  {
   "cell_type": "code",
   "execution_count": null,
   "metadata": {},
   "outputs": [],
   "source": [
    "aug = RandomRotate(max_angle=20)"
   ]
  },
  {
   "cell_type": "code",
   "execution_count": 22,
   "metadata": {},
   "outputs": [],
   "source": [
    "aug = MultiplicativeNoise(elementwise=False)"
   ]
  },
  {
   "cell_type": "code",
   "execution_count": null,
   "metadata": {},
   "outputs": [],
   "source": [
    "aug = Presize(zoom_limit=2)"
   ]
  },
  {
   "cell_type": "code",
   "execution_count": null,
   "metadata": {},
   "outputs": [],
   "source": [
    "aug = Diffeomorph(p=1)"
   ]
  },
  {
   "cell_type": "code",
   "execution_count": null,
   "metadata": {},
   "outputs": [],
   "source": [
    "aug = MonaiAffine(p=1)"
   ]
  },
  {
   "cell_type": "code",
   "execution_count": null,
   "metadata": {},
   "outputs": [],
   "source": [
    "aug = MonaiElastic(p=1)"
   ]
  },
  {
   "cell_type": "code",
   "execution_count": 7,
   "metadata": {},
   "outputs": [],
   "source": [
    "aug = AdditiveNoise(p=1)"
   ]
  },
  {
   "cell_type": "code",
   "execution_count": 108,
   "metadata": {},
   "outputs": [],
   "source": [
    "aug = GaussianBlur(p=1)"
   ]
  },
  {
   "cell_type": "code",
   "execution_count": 11,
   "metadata": {},
   "outputs": [],
   "source": [
    "aug = RandomRotate90(p=1)"
   ]
  },
  {
   "cell_type": "code",
   "execution_count": 9,
   "metadata": {},
   "outputs": [],
   "source": [
    "aug = RandomCrop(p=1)"
   ]
  },
  {
   "cell_type": "code",
   "execution_count": 54,
   "metadata": {},
   "outputs": [],
   "source": [
    "aug = VerticalFlip(p=1)"
   ]
  },
  {
   "cell_type": "code",
   "execution_count": null,
   "metadata": {},
   "outputs": [],
   "source": [
    "aug = Compose([\n",
    "    HorizontalFlip(config.axis),\n",
    "#     Presize(zoom_limit=2), \n",
    "    RandomScale(scale_limit=0.2),\n",
    "    RandomShift(shift_limit=4),\n",
    "    RandomRotate(max_angle=3),\n",
    "    Diffeomorph()\n",
    "])"
   ]
  },
  {
   "cell_type": "code",
   "execution_count": null,
   "metadata": {},
   "outputs": [],
   "source": [
    "aug = get_train_tfms(config)"
   ]
  },
  {
   "cell_type": "code",
   "execution_count": null,
   "metadata": {},
   "outputs": [],
   "source": []
  },
  {
   "cell_type": "code",
   "execution_count": 13,
   "metadata": {},
   "outputs": [
    {
     "data": {
      "text/plain": [
       "2"
      ]
     },
     "execution_count": 13,
     "metadata": {},
     "output_type": "execute_result"
    }
   ],
   "source": [
    "np.ceil(1.5).astype('int')"
   ]
  },
  {
   "cell_type": "code",
   "execution_count": 5,
   "metadata": {},
   "outputs": [
    {
     "name": "stdout",
     "output_type": "stream",
     "text": [
      "Using Concat Dataset\n",
      "Loading data along axis: 3\n"
     ]
    },
    {
     "data": {
      "text/html": [
       "\n",
       "    <div>\n",
       "        <style>\n",
       "            /* Turns off some styling */\n",
       "            progress {\n",
       "                /* gets rid of default border in Firefox and Opera. */\n",
       "                border: none;\n",
       "                /* Needs to be in here for Safari polyfill so background images work as expected. */\n",
       "                background-size: auto;\n",
       "            }\n",
       "            .progress-bar-interrupted, .progress-bar-interrupted::-webkit-progress-bar {\n",
       "                background: #F44336;\n",
       "            }\n",
       "        </style>\n",
       "      <progress value='2' class='' max='2' style='width:300px; height:20px; vertical-align: middle;'></progress>\n",
       "      100.00% [2/2 00:24<00:00]\n",
       "    </div>\n",
       "    "
      ],
      "text/plain": [
       "<IPython.core.display.HTML object>"
      ]
     },
     "metadata": {},
     "output_type": "display_data"
    }
   ],
   "source": [
    "train_ds = KBPDataset2D(config, train_df[:2])"
   ]
  },
  {
   "cell_type": "code",
   "execution_count": 62,
   "metadata": {},
   "outputs": [
    {
     "name": "stdout",
     "output_type": "stream",
     "text": [
      "10518602.0 10518602.0\n",
      "2608.0 2608.0\n"
     ]
    },
    {
     "data": {
      "text/plain": [
       "<matplotlib.image.AxesImage at 0x7fad3864c080>"
      ]
     },
     "execution_count": 62,
     "metadata": {},
     "output_type": "execute_result"
    },
    {
     "data": {
      "image/png": "[encoded data removed]",
      "text/plain": [
       "<Figure size 864x864 with 2 Axes>"
      ]
     },
     "metadata": {
      "needs_background": "light"
     },
     "output_type": "display_data"
    }
   ],
   "source": [
    "%matplotlib inline\n",
    "iidx = 0\n",
    "idx= 47\n",
    "train_ds.transform = None\n",
    "img, (target, possible_dose_mask, structure_masks, voxel_size, _, _) = train_ds[iidx*128 + idx]\n",
    "train_ds.transform = aug\n",
    "tfimg, (tftarget, tfpossible_dose_mask, tfstructure_masks, tfvoxel_size, _, _) = train_ds[iidx*128 + idx]\n",
    "fig, ax = plt.subplots(nrows=1, ncols=2, figsize=(12,12))\n",
    "# tfimg = img[flipidxs]\n",
    "print(img.sum(), tfimg.sum())\n",
    "print(img.max(), tfimg.max())\n",
    "\n",
    "ch = 0\n",
    "ax[0].imshow(img[ch])\n",
    "\n",
    "ax[1].imshow(tfimg[ch])"
   ]
  },
  {
   "cell_type": "code",
   "execution_count": 63,
   "metadata": {},
   "outputs": [
    {
     "name": "stdout",
     "output_type": "stream",
     "text": [
      "False\n",
      "True\n",
      "True\n",
      "True\n",
      "CPU times: user 3.53 ms, sys: 0 ns, total: 3.53 ms\n",
      "Wall time: 2.75 ms\n"
     ]
    }
   ],
   "source": [
    "%%time\n",
    "print(np.array_equal(tfimg, img))\n",
    "print(np.array_equal(tftarget, target))\n",
    "print(np.array_equal(tfpossible_dose_mask, possible_dose_mask))\n",
    "print(np.array_equal(tfstructure_masks, structure_masks))"
   ]
  },
  {
   "cell_type": "code",
   "execution_count": 65,
   "metadata": {},
   "outputs": [
    {
     "name": "stdout",
     "output_type": "stream",
     "text": [
      "307 1\n",
      "258 1\n"
     ]
    },
    {
     "data": {
      "text/plain": [
       "<matplotlib.image.AxesImage at 0x7fad37472518>"
      ]
     },
     "execution_count": 65,
     "metadata": {},
     "output_type": "execute_result"
    },
    {
     "data": {
      "image/png": "[encoded data removed]",
      "text/plain": [
       "<Figure size 864x864 with 2 Axes>"
      ]
     },
     "metadata": {
      "needs_background": "light"
     },
     "output_type": "display_data"
    }
   ],
   "source": [
    "ch = 21\n",
    "print(img[ch].sum().astype('int'), img[ch].max().astype('int'))\n",
    "print(tfimg[ch].sum().astype('int'), tfimg[ch].max().astype('int'))\n",
    "fig, ax = plt.subplots(nrows=1, ncols=2, figsize=(12,12))\n",
    "ax[0].imshow(img[ch])\n",
    "ax[1].imshow(tfimg[ch])"
   ]
  },
  {
   "cell_type": "code",
   "execution_count": 66,
   "metadata": {},
   "outputs": [
    {
     "name": "stdout",
     "output_type": "stream",
     "text": [
      "60223.07 71.906\n",
      "60223.07 71.906\n"
     ]
    },
    {
     "data": {
      "text/plain": [
       "<matplotlib.image.AxesImage at 0x7fad372bde80>"
      ]
     },
     "execution_count": 66,
     "metadata": {},
     "output_type": "execute_result"
    },
    {
     "data": {
      "image/png": "[encoded data removed]",
      "text/plain": [
       "<Figure size 864x864 with 2 Axes>"
      ]
     },
     "metadata": {
      "needs_background": "light"
     },
     "output_type": "display_data"
    }
   ],
   "source": [
    "print(target[0].sum(), target[0].max())\n",
    "print(tftarget[0].sum(), tftarget[0].max())\n",
    "fig, ax = plt.subplots(nrows=1, ncols=2, figsize=(12,12))\n",
    "ax[0].imshow(target[0])\n",
    "ax[1].imshow(tftarget[0])"
   ]
  },
  {
   "cell_type": "code",
   "execution_count": 67,
   "metadata": {},
   "outputs": [
    {
     "name": "stdout",
     "output_type": "stream",
     "text": [
      "1319.0 1.0\n",
      "1319.0 1.0\n"
     ]
    },
    {
     "data": {
      "text/plain": [
       "<matplotlib.image.AxesImage at 0x7fad372054e0>"
      ]
     },
     "execution_count": 67,
     "metadata": {},
     "output_type": "execute_result"
    },
    {
     "data": {
      "image/png": "[encoded data removed]",
      "text/plain": [
       "<Figure size 864x864 with 2 Axes>"
      ]
     },
     "metadata": {
      "needs_background": "light"
     },
     "output_type": "display_data"
    }
   ],
   "source": [
    "print(possible_dose_mask[0].sum(), possible_dose_mask[0].max())\n",
    "print(tfpossible_dose_mask[0].sum(), tfpossible_dose_mask[0].max())\n",
    "fig, ax = plt.subplots(nrows=1, ncols=2, figsize=(12,12))\n",
    "ax[0].imshow(possible_dose_mask[0])\n",
    "ax[1].imshow(tfpossible_dose_mask[0])"
   ]
  },
  {
   "cell_type": "code",
   "execution_count": 83,
   "metadata": {},
   "outputs": [
    {
     "name": "stdout",
     "output_type": "stream",
     "text": [
      "111.0 1.0\n",
      "18.0 1.0\n"
     ]
    },
    {
     "data": {
      "text/plain": [
       "<matplotlib.image.AxesImage at 0x7f7bdf1166d0>"
      ]
     },
     "execution_count": 83,
     "metadata": {},
     "output_type": "execute_result"
    },
    {
     "data": {
      "image/png": "[encoded data removed]",
      "text/plain": [
       "<Figure size 864x864 with 2 Axes>"
      ]
     },
     "metadata": {
      "needs_background": "light"
     },
     "output_type": "display_data"
    }
   ],
   "source": [
    "ch = 7\n",
    "print(structure_masks[ch].sum(), structure_masks[ch].max())\n",
    "print(tfstructure_masks[ch].sum(), tfstructure_masks[ch].max())\n",
    "fig, ax = plt.subplots(nrows=1, ncols=2, figsize=(12,12))\n",
    "ax[0].imshow(structure_masks[ch])\n",
    "ax[1].imshow(tfstructure_masks[ch])"
   ]
  },
  {
   "cell_type": "code",
   "execution_count": null,
   "metadata": {},
   "outputs": [],
   "source": [
    "mean = 0\n",
    "maxv = 0\n",
    "vals = []\n",
    "tarvals = []\n",
    "for idx in tqdm(range(len(train_ds))):\n",
    "    img, (target, possible_dose_mask, structure_masks, voxel_size, idx) = train_ds[idx]\n",
    "    mean += img.mean()\n",
    "    maxv = max(maxv, img.max())\n",
    "    vals.append(img.flatten())\n",
    "    tarvals.append(target.flatten())\n",
    "mean /= len(train_ds)\n",
    "maxv, mean"
   ]
  },
  {
   "cell_type": "code",
   "execution_count": null,
   "metadata": {},
   "outputs": [],
   "source": [
    "valscomb = np.array(vals).flatten()\n",
    "tarcomb = np.array(tarvals).flatten()"
   ]
  },
  {
   "cell_type": "code",
   "execution_count": null,
   "metadata": {},
   "outputs": [],
   "source": [
    "nzind = np.where(valscomb != 0)\n",
    "valsnz = np.array(valscomb[nzind])"
   ]
  },
  {
   "cell_type": "code",
   "execution_count": null,
   "metadata": {},
   "outputs": [],
   "source": [
    "tnzind = np.where(tarcomb != 0)\n",
    "tvalsnz = np.array(tarcomb[tnzind])"
   ]
  },
  {
   "cell_type": "code",
   "execution_count": null,
   "metadata": {},
   "outputs": [],
   "source": [
    "plt.hist(valsnz, bins=100)"
   ]
  },
  {
   "cell_type": "code",
   "execution_count": null,
   "metadata": {},
   "outputs": [],
   "source": [
    "plt.hist(tvalsnz, bins=100)"
   ]
  },
  {
   "cell_type": "code",
   "execution_count": null,
   "metadata": {},
   "outputs": [],
   "source": [
    "tarcomb"
   ]
  },
  {
   "cell_type": "code",
   "execution_count": null,
   "metadata": {},
   "outputs": [],
   "source": [
    "valid_ds[0][1][0].max()"
   ]
  },
  {
   "cell_type": "code",
   "execution_count": null,
   "metadata": {},
   "outputs": [],
   "source": []
  }
 ],
 "metadata": {
  "kernelspec": {
   "display_name": "Python [conda env:dl]",
   "language": "python",
   "name": "conda-env-dl-py"
  },
  "language_info": {
   "codemirror_mode": {
    "name": "ipython",
    "version": 3
   },
   "file_extension": ".py",
   "mimetype": "text/x-python",
   "name": "python",
   "nbconvert_exporter": "python",
   "pygments_lexer": "ipython3",
   "version": "3.7.6"
  }
 },
 "nbformat": 4,
 "nbformat_minor": 4
}
