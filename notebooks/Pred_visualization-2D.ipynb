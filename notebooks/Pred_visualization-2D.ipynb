{
 "cells": [
  {
   "cell_type": "code",
   "execution_count": 1,
   "metadata": {},
   "outputs": [],
   "source": [
    "import os, sys\n",
    "if not os.path.exists('./dl.yml'):\n",
    "    os.chdir(os.path.expanduser('..'))\n",
    "    \n",
    "import numpy as np\n",
    "import pandas as pd\n",
    "import torch\n",
    "import time\n",
    "import matplotlib.pyplot as plt\n",
    "import mplcursors\n",
    "from fastprogress.fastprogress import progress_bar as tqdm\n",
    "from functools import partial\n",
    "import cv2\n",
    "from functools import partial\n",
    "\n",
    "from ipywidgets import interact, interactive, fixed, interact_manual\n",
    "import ipywidgets as widgets\n",
    "\n",
    "from utils.dataloader2D import KBPDataset2D\n",
    "# from config.config import config\n",
    "from config.old_configs.run174.config import config\n",
    "\n",
    "%matplotlib notebook\n",
    "# %matplotlib inline"
   ]
  },
  {
   "cell_type": "code",
   "execution_count": 115,
   "metadata": {},
   "outputs": [],
   "source": [
    "foldidx = 1\n",
    "data_df = pd.read_csv(config.DATA_CSV_PATH)\n",
    "split_train_mask = (data_df['Fold'] != 'Fold{}'.format(foldidx))\n",
    "train_df = data_df[split_train_mask & (data_df['Split'] == 'Train')].reset_index(drop=True)\n",
    "valid_df = data_df[(~split_train_mask) & (data_df['Split'] == 'Train')].reset_index(drop=True)\n",
    "test_df = data_df[data_df['Split'] == 'Test'].reset_index(drop=True)\n",
    "# train_ds = KBPDataset2D(config, train_df)\n",
    "# valid_ds = KBPDataset2D(config, valid_df)\n",
    "# test_ds = KBPDataset2D(config, test_df, training=False)"
   ]
  },
  {
   "cell_type": "code",
   "execution_count": 116,
   "metadata": {},
   "outputs": [
    {
     "name": "stdout",
     "output_type": "stream",
     "text": [
      "Unet 2d separable conv with drop rate: 0.75\n",
      "Loading model from ./model_weights/run174/models/best_dose_fold1.pth\n",
      "\n",
      "Using Concat Dataset\n",
      "Loading data along axis: 3\n"
     ]
    },
    {
     "data": {
      "text/html": [
       "\n",
       "    <div>\n",
       "        <style>\n",
       "            /* Turns off some styling */\n",
       "            progress {\n",
       "                /* gets rid of default border in Firefox and Opera. */\n",
       "                border: none;\n",
       "                /* Needs to be in here for Safari polyfill so background images work as expected. */\n",
       "                background-size: auto;\n",
       "            }\n",
       "            .progress-bar-interrupted, .progress-bar-interrupted::-webkit-progress-bar {\n",
       "                background: #F44336;\n",
       "            }\n",
       "        </style>\n",
       "      <progress value='40' class='' max='40', style='width:300px; height:20px; vertical-align: middle;'></progress>\n",
       "      100.00% [40/40 00:07<00:00]\n",
       "    </div>\n",
       "    "
      ],
      "text/plain": [
       "<IPython.core.display.HTML object>"
      ]
     },
     "metadata": {},
     "output_type": "display_data"
    }
   ],
   "source": [
    "import models.model_list as model_list\n",
    "from utils.dataloader import KBPDataset as KBPDataset3D\n",
    "from utils.dataloader2D import KBPDataset2D\n",
    "from torch.utils.data import Dataset, DataLoader\n",
    "from utils.evaluation2D import EvaluateDose2D\n",
    "\n",
    "Net = getattr(model_list, config.model_name)\n",
    "net = Net(config=config).to(config.device)\n",
    "\n",
    "metric = 'dose'\n",
    "load_path = './model_weights/{}/models/best_{}_fold{}.pth'.format(config.exp_name, metric, foldidx)\n",
    "assert config.exp_name in load_path\n",
    "print('Loading model from {}'.format(load_path))\n",
    "net.load_state_dict(torch.load(load_path)['model'])\n",
    "net.float()\n",
    "net.eval()\n",
    "print('')\n",
    "\n",
    "valid_ds3D = KBPDataset3D(config, valid_df)\n",
    "valid_ds2D = KBPDataset2D(config, valid_df, valid=True)\n",
    "valid_dl3D = DataLoader(valid_ds3D, batch_size=1, shuffle=False, num_workers=config.num_workers)\n",
    "valid_dl2D = DataLoader(valid_ds2D, batch_size=1, shuffle=False, num_workers=config.num_workers)"
   ]
  },
  {
   "cell_type": "code",
   "execution_count": 117,
   "metadata": {},
   "outputs": [
    {
     "name": "stdout",
     "output_type": "stream",
     "text": [
      "Offset list:  [-4 -3 -2 -1  0  1  2  3  4]\n",
      "Loading offset m4m3m2m101234 from cache...\n",
      "Done inference! Making metrics...\n"
     ]
    },
    {
     "data": {
      "text/html": [
       "\n",
       "    <div>\n",
       "        <style>\n",
       "            /* Turns off some styling */\n",
       "            progress {\n",
       "                /* gets rid of default border in Firefox and Opera. */\n",
       "                border: none;\n",
       "                /* Needs to be in here for Safari polyfill so background images work as expected. */\n",
       "                background-size: auto;\n",
       "            }\n",
       "            .progress-bar-interrupted, .progress-bar-interrupted::-webkit-progress-bar {\n",
       "                background: #F44336;\n",
       "            }\n",
       "        </style>\n",
       "      <progress value='40' class='' max='40', style='width:300px; height:20px; vertical-align: middle;'></progress>\n",
       "      100.00% [40/40 00:17<00:00]\n",
       "    </div>\n",
       "    "
      ],
      "text/plain": [
       "<IPython.core.display.HTML object>"
      ]
     },
     "metadata": {},
     "output_type": "display_data"
    },
    {
     "ename": "NameError",
     "evalue": "name 'dvh_sc' is not defined",
     "output_type": "error",
     "traceback": [
      "\u001b[0;31m---------------------------------------------------------------------------\u001b[0m",
      "\u001b[0;31mNameError\u001b[0m                                 Traceback (most recent call last)",
      "\u001b[0;32m<ipython-input-117-f5ce73cf7ccb>\u001b[0m in \u001b[0;36m<module>\u001b[0;34m\u001b[0m\n\u001b[1;32m      6\u001b[0m print('For this out-of-sample test:\\n'\n\u001b[1;32m      7\u001b[0m       \u001b[0;34m'\\tthe DVH score is {:.3f}\\n '\u001b[0m\u001b[0;34m\u001b[0m\u001b[0;34m\u001b[0m\u001b[0m\n\u001b[0;32m----> 8\u001b[0;31m       '\\tthe dose score is {:.3f}'.format(dvh_sc, dose_sc))\n\u001b[0m",
      "\u001b[0;31mNameError\u001b[0m: name 'dvh_sc' is not defined"
     ]
    }
   ],
   "source": [
    "offset_lists = [np.arange(-4,5)]\n",
    "dose_evaluator = EvaluateDose2D(config, net=net, data_loader=valid_dl3D, dose_loader=valid_dl2D, \n",
    "            offset_lists=offset_lists, load_cache=True, store_cache=False, cache_dir='localval_fold{}/{}/'.format(foldidx, metric))\n",
    "# dvh_sc, dose_sc = dose_evaluator.make_metrics()\n",
    "dose_score_vec, reference_dose_metric_df, new_dose_metric_df = dose_evaluator.make_metrics(get_dfs=True)\n",
    "print('For this out-of-sample test:\\n'\n",
    "      '\\tthe DVH score is {:.3f}\\n '\n",
    "      '\\tthe dose score is {:.3f}'.format(dvh_sc, dose_sc))"
   ]
  },
  {
   "cell_type": "code",
   "execution_count": 118,
   "metadata": {},
   "outputs": [
    {
     "data": {
      "text/plain": [
       "4.7448783"
      ]
     },
     "execution_count": 118,
     "metadata": {},
     "output_type": "execute_result"
    }
   ],
   "source": [
    "iidx = 0\n",
    "sidx = 0\n",
    "img, (target, possible_dose_mask, structure_masks, voxel_size, idx, is_pseudo) = valid_ds2D[iidx*128+sidx]\n",
    "img.mean()"
   ]
  },
  {
   "cell_type": "code",
   "execution_count": 8,
   "metadata": {},
   "outputs": [],
   "source": [
    "def info(img, x, y):\n",
    "    x = np.round(x).astype('int')\n",
    "    y = np.round(y).astype('int')\n",
    "    val = img[y, x]\n",
    "    line = \"x={}, y={}, val={:.3f}\".format(x, y, val)\n",
    "    return line\n",
    "\n",
    "def f(ds, dose_evaluator, dose_sc, voxel_sz, iidx=0, sidx=0):\n",
    "    assert pd.DataFrame.equals(dose_evaluator.data_loader.dataset.data_df, ds.data_df)\n",
    "    tidx = iidx*128+sidx\n",
    "#     img, (target, possible_dose_mask, structure_masks, voxel_size, idx) = ds[tidx]\n",
    "    \n",
    "    dose_batch = ds.defdataset.get_batch(index=iidx)\n",
    "    img = dose_batch['ct'][:,:,:,:,0]\n",
    "    target = dose_batch['dose'][:,:,:,:,0]\n",
    "    possible_dose_mask = dose_batch['possible_dose_mask'][:,:,:,:,0]\n",
    "    structure_masks = dose_batch['structure_masks']\n",
    "    voxel_size = dose_batch['voxel_dimensions']\n",
    "    \n",
    "    predidx = [0, np.s_[:], np.s_[:], np.s_[:]]\n",
    "    predidx[config.axis] = sidx\n",
    "    pred = dose_evaluator.preds[iidx][tuple(predidx)]\n",
    "    \n",
    "    arrays = [img[tuple(predidx)], target[tuple(predidx)], pred*possible_dose_mask[tuple(predidx)],\n",
    "              possible_dose_mask[tuple(predidx)], pred]\n",
    "    titles = ['Image', 'Target', 'Prediction*PDM', 'PDM', 'Prediction']\n",
    "    fig, ax = plt.subplots(nrows=1, ncols=len(arrays), figsize=(len(arrays)*3,3))\n",
    "    for a, arr, title in zip(ax, arrays, titles):\n",
    "        a.imshow(arr)\n",
    "        a.set_title(title)\n",
    "        a.format_coord = partial(info, arr)\n",
    "        a.axis('off')\n",
    "    \n",
    "    d_sc = possible_dose_mask[0].sum()\n",
    "    if d_sc != 0:\n",
    "        d_sc = np.abs(target[0]-pred*possible_dose_mask[0]).sum() / d_sc\n",
    "    dose_sc.value = d_sc\n",
    "    voxel_sz.value = str(voxel_size)\n",
    "    \n",
    "    mplcursors.cursor(hover=True)\n",
    "    mplcursors.cursor(bindings={\"toggle_visible\": \"h\", \"toggle_enabled\": \"e\"}) # Shift+<arrow keys> to move\n",
    "    fig.tight_layout()"
   ]
  },
  {
   "cell_type": "code",
   "execution_count": 9,
   "metadata": {
    "scrolled": false
   },
   "outputs": [
    {
     "data": {
      "application/vnd.jupyter.widget-view+json": {
       "model_id": "4f8d2f3b937244749018abaa187f30fa",
       "version_major": 2,
       "version_minor": 0
      },
      "text/plain": [
       "HBox(children=(IntSlider(value=0, description='Image Idx:', max=40), IntSlider(value=0, description='Slice Idx…"
      ]
     },
     "metadata": {},
     "output_type": "display_data"
    },
    {
     "data": {
      "application/vnd.jupyter.widget-view+json": {
       "model_id": "ca71c221d81c4111b49ae138c32dcbf9",
       "version_major": 2,
       "version_minor": 0
      },
      "text/plain": [
       "HBox(children=(BoundedIntText(value=0, description='Image Idx:', max=40), BoundedIntText(value=76, description…"
      ]
     },
     "metadata": {},
     "output_type": "display_data"
    },
    {
     "data": {
      "application/vnd.jupyter.widget-view+json": {
       "model_id": "8ed96c75ac88467b9bbcf0c51e9ac232",
       "version_major": 2,
       "version_minor": 0
      },
      "text/plain": [
       "Output()"
      ]
     },
     "metadata": {},
     "output_type": "display_data"
    }
   ],
   "source": [
    "ibt = widgets.BoundedIntText(value=0, min=0, max=len(valid_dl3D), step=1, description='Image Idx:', disabled=False)\n",
    "isl = widgets.IntSlider(min=0, max=len(valid_dl3D), description='Image Idx:')\n",
    "widgets.jslink((ibt, 'value'), (isl, 'value'))\n",
    "\n",
    "sbt = widgets.BoundedIntText(value=76, min=0, max=127, step=1, description='Slice Idx:', disabled=False)\n",
    "ssl = widgets.IntSlider(min=0, max=127, description='Slice Idx:')\n",
    "widgets.jslink((sbt, 'value'), (ssl, 'value'))\n",
    "\n",
    "dose_sc = widgets.BoundedFloatText(value=0, description='Dose Sc:', disabled=False)\n",
    "voxel_sz = widgets.Text(value='', description='Voxel size:', disabled=False)\n",
    "\n",
    "bts = widgets.HBox([ibt, sbt, voxel_sz])\n",
    "sls = widgets.HBox([isl, ssl, dose_sc])\n",
    "display(sls)\n",
    "\n",
    "out = widgets.interactive_output(f, {'iidx': ibt, 'sidx': sbt, 'ds': fixed(valid_ds2D), \n",
    "                                     'dose_evaluator': fixed(dose_evaluator), 'dose_sc': fixed(dose_sc),\n",
    "                                     'voxel_sz': fixed(voxel_sz)})\n",
    "\n",
    "# interact(f, iidx=ibt, sidx=sbt, ds=fixed(train_ds))\n",
    "display(bts, out)"
   ]
  },
  {
   "cell_type": "code",
   "execution_count": 122,
   "metadata": {},
   "outputs": [
    {
     "name": "stdout",
     "output_type": "stream",
     "text": [
      "0 1.2349217087570787 0\n",
      "1 1.7532561885518647 0\n",
      "2 2.251193877964016 0\n",
      "3 2.646998421638844 -1\n",
      "4 1.7549553366962207 0\n",
      "5 2.380631559936884 0\n",
      "6 1.8265931404743867 0\n",
      "7 3.090139761651263 0\n",
      "8 2.8152106350442856 0\n",
      "9 2.655964207136281 0\n",
      "10 2.9694565328071025 0\n",
      "11 2.7599933192144865 0\n",
      "12 1.5502286163160597 0\n",
      "13 1.8955932296014992 0\n",
      "14 3.8430743949416533 -1\n",
      "15 2.4035411757329355 0\n",
      "16 1.5348567225979153 0\n",
      "17 1.446111556123899 0\n",
      "18 1.619229267163659 0\n",
      "19 2.8475437302895656 -2\n",
      "20 1.6318483715681964 0\n",
      "21 3.4744290780538196 4\n",
      "22 2.9835393358857063 -1\n",
      "23 2.3492414376819815 0\n",
      "24 3.052025333716914 0\n",
      "25 3.578995322397785 -1\n",
      "26 1.5438840170229475 0\n",
      "27 1.2362116133613765 0\n",
      "28 2.417171485756602 0\n",
      "29 2.0785746289267606 0\n",
      "30 4.063980860934541 0\n",
      "31 5.801138880085694 -2\n",
      "32 1.4716503475637297 0\n",
      "33 2.300545882576846 0\n",
      "34 2.8737244731405704 0\n",
      "35 3.5381178744208985 0\n",
      "36 2.7498605560423175 0\n",
      "37 1.4565497933371654 0\n",
      "38 1.5911320879783186 0\n",
      "39 2.0674963402509596 -1\n"
     ]
    },
    {
     "data": {
      "text/plain": [
       "2.4384902775835755"
      ]
     },
     "execution_count": 122,
     "metadata": {},
     "output_type": "execute_result"
    }
   ],
   "source": [
    "# idx = 19\n",
    "# subs = 0\n",
    "mindoses = []\n",
    "for idx in range(40):\n",
    "    mindose = 20\n",
    "    minsub = 0\n",
    "    dor = valid_ds3D.defdataset.get_batch(idx)['dose'].flatten()\n",
    "    pdm = valid_ds3D.defdataset.get_batch(idx)['possible_dose_mask']\n",
    "    for subs in np.arange(-9, 10):\n",
    "        dpr = ((dose_evaluator.preds[idx] - subs) * pdm.squeeze(4)).flatten()\n",
    "        sdose = np.abs(dpr - dor).sum() / pdm.sum()\n",
    "        if sdose < mindose:\n",
    "            mindose = sdose\n",
    "            minsub = subs\n",
    "    mindoses.append(mindose)\n",
    "    print(idx, mindose, minsub)\n",
    "np.array(mindoses).mean()"
   ]
  },
  {
   "cell_type": "code",
   "execution_count": 119,
   "metadata": {},
   "outputs": [
    {
     "data": {
      "text/html": [
       "<div>\n",
       "<style scoped>\n",
       "    .dataframe tbody tr th:only-of-type {\n",
       "        vertical-align: middle;\n",
       "    }\n",
       "\n",
       "    .dataframe tbody tr th {\n",
       "        vertical-align: top;\n",
       "    }\n",
       "\n",
       "    .dataframe thead th {\n",
       "        text-align: right;\n",
       "    }\n",
       "</style>\n",
       "<table border=\"1\" class=\"dataframe\">\n",
       "  <thead>\n",
       "    <tr style=\"text-align: right;\">\n",
       "      <th></th>\n",
       "      <th>Id</th>\n",
       "      <th>Split</th>\n",
       "      <th>Fold</th>\n",
       "      <th>Type(Full/Head/Unclean/Bad)</th>\n",
       "    </tr>\n",
       "  </thead>\n",
       "  <tbody>\n",
       "    <tr>\n",
       "      <th>0</th>\n",
       "      <td>./data/train-pats/pt_4</td>\n",
       "      <td>Train</td>\n",
       "      <td>Fold1</td>\n",
       "      <td>F</td>\n",
       "    </tr>\n",
       "    <tr>\n",
       "      <th>1</th>\n",
       "      <td>./data/train-pats/pt_9</td>\n",
       "      <td>Train</td>\n",
       "      <td>Fold1</td>\n",
       "      <td>F</td>\n",
       "    </tr>\n",
       "    <tr>\n",
       "      <th>2</th>\n",
       "      <td>./data/train-pats/pt_14</td>\n",
       "      <td>Train</td>\n",
       "      <td>Fold1</td>\n",
       "      <td>F</td>\n",
       "    </tr>\n",
       "    <tr>\n",
       "      <th>3</th>\n",
       "      <td>./data/train-pats/pt_18</td>\n",
       "      <td>Train</td>\n",
       "      <td>Fold1</td>\n",
       "      <td>H</td>\n",
       "    </tr>\n",
       "    <tr>\n",
       "      <th>4</th>\n",
       "      <td>./data/train-pats/pt_19</td>\n",
       "      <td>Train</td>\n",
       "      <td>Fold1</td>\n",
       "      <td>F</td>\n",
       "    </tr>\n",
       "    <tr>\n",
       "      <th>5</th>\n",
       "      <td>./data/train-pats/pt_28</td>\n",
       "      <td>Train</td>\n",
       "      <td>Fold1</td>\n",
       "      <td>F</td>\n",
       "    </tr>\n",
       "    <tr>\n",
       "      <th>6</th>\n",
       "      <td>./data/train-pats/pt_32</td>\n",
       "      <td>Train</td>\n",
       "      <td>Fold1</td>\n",
       "      <td>F</td>\n",
       "    </tr>\n",
       "    <tr>\n",
       "      <th>7</th>\n",
       "      <td>./data/train-pats/pt_33</td>\n",
       "      <td>Train</td>\n",
       "      <td>Fold1</td>\n",
       "      <td>H</td>\n",
       "    </tr>\n",
       "    <tr>\n",
       "      <th>8</th>\n",
       "      <td>./data/train-pats/pt_36</td>\n",
       "      <td>Train</td>\n",
       "      <td>Fold1</td>\n",
       "      <td>H</td>\n",
       "    </tr>\n",
       "    <tr>\n",
       "      <th>9</th>\n",
       "      <td>./data/train-pats/pt_37</td>\n",
       "      <td>Train</td>\n",
       "      <td>Fold1</td>\n",
       "      <td>H</td>\n",
       "    </tr>\n",
       "    <tr>\n",
       "      <th>10</th>\n",
       "      <td>./data/train-pats/pt_39</td>\n",
       "      <td>Train</td>\n",
       "      <td>Fold1</td>\n",
       "      <td>F</td>\n",
       "    </tr>\n",
       "    <tr>\n",
       "      <th>11</th>\n",
       "      <td>./data/train-pats/pt_43</td>\n",
       "      <td>Train</td>\n",
       "      <td>Fold1</td>\n",
       "      <td>F</td>\n",
       "    </tr>\n",
       "    <tr>\n",
       "      <th>12</th>\n",
       "      <td>./data/train-pats/pt_46</td>\n",
       "      <td>Train</td>\n",
       "      <td>Fold1</td>\n",
       "      <td>F</td>\n",
       "    </tr>\n",
       "    <tr>\n",
       "      <th>13</th>\n",
       "      <td>./data/train-pats/pt_55</td>\n",
       "      <td>Train</td>\n",
       "      <td>Fold1</td>\n",
       "      <td>F</td>\n",
       "    </tr>\n",
       "    <tr>\n",
       "      <th>14</th>\n",
       "      <td>./data/train-pats/pt_57</td>\n",
       "      <td>Train</td>\n",
       "      <td>Fold1</td>\n",
       "      <td>H</td>\n",
       "    </tr>\n",
       "    <tr>\n",
       "      <th>15</th>\n",
       "      <td>./data/train-pats/pt_58</td>\n",
       "      <td>Train</td>\n",
       "      <td>Fold1</td>\n",
       "      <td>F</td>\n",
       "    </tr>\n",
       "    <tr>\n",
       "      <th>16</th>\n",
       "      <td>./data/train-pats/pt_62</td>\n",
       "      <td>Train</td>\n",
       "      <td>Fold1</td>\n",
       "      <td>F</td>\n",
       "    </tr>\n",
       "    <tr>\n",
       "      <th>17</th>\n",
       "      <td>./data/train-pats/pt_68</td>\n",
       "      <td>Train</td>\n",
       "      <td>Fold1</td>\n",
       "      <td>F</td>\n",
       "    </tr>\n",
       "    <tr>\n",
       "      <th>18</th>\n",
       "      <td>./data/train-pats/pt_72</td>\n",
       "      <td>Train</td>\n",
       "      <td>Fold1</td>\n",
       "      <td>F</td>\n",
       "    </tr>\n",
       "    <tr>\n",
       "      <th>19</th>\n",
       "      <td>./data/train-pats/pt_79</td>\n",
       "      <td>Train</td>\n",
       "      <td>Fold1</td>\n",
       "      <td>H</td>\n",
       "    </tr>\n",
       "    <tr>\n",
       "      <th>20</th>\n",
       "      <td>./data/train-pats/pt_87</td>\n",
       "      <td>Train</td>\n",
       "      <td>Fold1</td>\n",
       "      <td>F</td>\n",
       "    </tr>\n",
       "    <tr>\n",
       "      <th>21</th>\n",
       "      <td>./data/train-pats/pt_93</td>\n",
       "      <td>Train</td>\n",
       "      <td>Fold1</td>\n",
       "      <td>H</td>\n",
       "    </tr>\n",
       "    <tr>\n",
       "      <th>22</th>\n",
       "      <td>./data/train-pats/pt_97</td>\n",
       "      <td>Train</td>\n",
       "      <td>Fold1</td>\n",
       "      <td>H</td>\n",
       "    </tr>\n",
       "    <tr>\n",
       "      <th>23</th>\n",
       "      <td>./data/train-pats/pt_99</td>\n",
       "      <td>Train</td>\n",
       "      <td>Fold1</td>\n",
       "      <td>F</td>\n",
       "    </tr>\n",
       "    <tr>\n",
       "      <th>24</th>\n",
       "      <td>./data/train-pats/pt_117</td>\n",
       "      <td>Train</td>\n",
       "      <td>Fold1</td>\n",
       "      <td>F</td>\n",
       "    </tr>\n",
       "    <tr>\n",
       "      <th>25</th>\n",
       "      <td>./data/train-pats/pt_118</td>\n",
       "      <td>Train</td>\n",
       "      <td>Fold1</td>\n",
       "      <td>H</td>\n",
       "    </tr>\n",
       "    <tr>\n",
       "      <th>26</th>\n",
       "      <td>./data/train-pats/pt_122</td>\n",
       "      <td>Train</td>\n",
       "      <td>Fold1</td>\n",
       "      <td>F</td>\n",
       "    </tr>\n",
       "    <tr>\n",
       "      <th>27</th>\n",
       "      <td>./data/train-pats/pt_124</td>\n",
       "      <td>Train</td>\n",
       "      <td>Fold1</td>\n",
       "      <td>F</td>\n",
       "    </tr>\n",
       "    <tr>\n",
       "      <th>28</th>\n",
       "      <td>./data/train-pats/pt_132</td>\n",
       "      <td>Train</td>\n",
       "      <td>Fold1</td>\n",
       "      <td>F</td>\n",
       "    </tr>\n",
       "    <tr>\n",
       "      <th>29</th>\n",
       "      <td>./data/train-pats/pt_136</td>\n",
       "      <td>Train</td>\n",
       "      <td>Fold1</td>\n",
       "      <td>F</td>\n",
       "    </tr>\n",
       "    <tr>\n",
       "      <th>30</th>\n",
       "      <td>./data/train-pats/pt_138</td>\n",
       "      <td>Train</td>\n",
       "      <td>Fold1</td>\n",
       "      <td>F</td>\n",
       "    </tr>\n",
       "    <tr>\n",
       "      <th>31</th>\n",
       "      <td>./data/train-pats/pt_143</td>\n",
       "      <td>Train</td>\n",
       "      <td>Fold1</td>\n",
       "      <td>B</td>\n",
       "    </tr>\n",
       "    <tr>\n",
       "      <th>32</th>\n",
       "      <td>./data/train-pats/pt_145</td>\n",
       "      <td>Train</td>\n",
       "      <td>Fold1</td>\n",
       "      <td>F</td>\n",
       "    </tr>\n",
       "    <tr>\n",
       "      <th>33</th>\n",
       "      <td>./data/train-pats/pt_153</td>\n",
       "      <td>Train</td>\n",
       "      <td>Fold1</td>\n",
       "      <td>F</td>\n",
       "    </tr>\n",
       "    <tr>\n",
       "      <th>34</th>\n",
       "      <td>./data/train-pats/pt_158</td>\n",
       "      <td>Train</td>\n",
       "      <td>Fold1</td>\n",
       "      <td>H</td>\n",
       "    </tr>\n",
       "    <tr>\n",
       "      <th>35</th>\n",
       "      <td>./data/train-pats/pt_164</td>\n",
       "      <td>Train</td>\n",
       "      <td>Fold1</td>\n",
       "      <td>H</td>\n",
       "    </tr>\n",
       "    <tr>\n",
       "      <th>36</th>\n",
       "      <td>./data/train-pats/pt_174</td>\n",
       "      <td>Train</td>\n",
       "      <td>Fold1</td>\n",
       "      <td>F</td>\n",
       "    </tr>\n",
       "    <tr>\n",
       "      <th>37</th>\n",
       "      <td>./data/train-pats/pt_179</td>\n",
       "      <td>Train</td>\n",
       "      <td>Fold1</td>\n",
       "      <td>F</td>\n",
       "    </tr>\n",
       "    <tr>\n",
       "      <th>38</th>\n",
       "      <td>./data/train-pats/pt_190</td>\n",
       "      <td>Train</td>\n",
       "      <td>Fold1</td>\n",
       "      <td>F</td>\n",
       "    </tr>\n",
       "    <tr>\n",
       "      <th>39</th>\n",
       "      <td>./data/train-pats/pt_197</td>\n",
       "      <td>Train</td>\n",
       "      <td>Fold1</td>\n",
       "      <td>H</td>\n",
       "    </tr>\n",
       "  </tbody>\n",
       "</table>\n",
       "</div>"
      ],
      "text/plain": [
       "                          Id  Split   Fold Type(Full/Head/Unclean/Bad)\n",
       "0     ./data/train-pats/pt_4  Train  Fold1                           F\n",
       "1     ./data/train-pats/pt_9  Train  Fold1                           F\n",
       "2    ./data/train-pats/pt_14  Train  Fold1                           F\n",
       "3    ./data/train-pats/pt_18  Train  Fold1                           H\n",
       "4    ./data/train-pats/pt_19  Train  Fold1                           F\n",
       "5    ./data/train-pats/pt_28  Train  Fold1                           F\n",
       "6    ./data/train-pats/pt_32  Train  Fold1                           F\n",
       "7    ./data/train-pats/pt_33  Train  Fold1                           H\n",
       "8    ./data/train-pats/pt_36  Train  Fold1                           H\n",
       "9    ./data/train-pats/pt_37  Train  Fold1                           H\n",
       "10   ./data/train-pats/pt_39  Train  Fold1                           F\n",
       "11   ./data/train-pats/pt_43  Train  Fold1                           F\n",
       "12   ./data/train-pats/pt_46  Train  Fold1                           F\n",
       "13   ./data/train-pats/pt_55  Train  Fold1                           F\n",
       "14   ./data/train-pats/pt_57  Train  Fold1                           H\n",
       "15   ./data/train-pats/pt_58  Train  Fold1                           F\n",
       "16   ./data/train-pats/pt_62  Train  Fold1                           F\n",
       "17   ./data/train-pats/pt_68  Train  Fold1                           F\n",
       "18   ./data/train-pats/pt_72  Train  Fold1                           F\n",
       "19   ./data/train-pats/pt_79  Train  Fold1                           H\n",
       "20   ./data/train-pats/pt_87  Train  Fold1                           F\n",
       "21   ./data/train-pats/pt_93  Train  Fold1                           H\n",
       "22   ./data/train-pats/pt_97  Train  Fold1                           H\n",
       "23   ./data/train-pats/pt_99  Train  Fold1                           F\n",
       "24  ./data/train-pats/pt_117  Train  Fold1                           F\n",
       "25  ./data/train-pats/pt_118  Train  Fold1                           H\n",
       "26  ./data/train-pats/pt_122  Train  Fold1                           F\n",
       "27  ./data/train-pats/pt_124  Train  Fold1                           F\n",
       "28  ./data/train-pats/pt_132  Train  Fold1                           F\n",
       "29  ./data/train-pats/pt_136  Train  Fold1                           F\n",
       "30  ./data/train-pats/pt_138  Train  Fold1                           F\n",
       "31  ./data/train-pats/pt_143  Train  Fold1                           B\n",
       "32  ./data/train-pats/pt_145  Train  Fold1                           F\n",
       "33  ./data/train-pats/pt_153  Train  Fold1                           F\n",
       "34  ./data/train-pats/pt_158  Train  Fold1                           H\n",
       "35  ./data/train-pats/pt_164  Train  Fold1                           H\n",
       "36  ./data/train-pats/pt_174  Train  Fold1                           F\n",
       "37  ./data/train-pats/pt_179  Train  Fold1                           F\n",
       "38  ./data/train-pats/pt_190  Train  Fold1                           F\n",
       "39  ./data/train-pats/pt_197  Train  Fold1                           H"
      ]
     },
     "execution_count": 119,
     "metadata": {},
     "output_type": "execute_result"
    }
   ],
   "source": [
    "valid_df"
   ]
  },
  {
   "cell_type": "code",
   "execution_count": 113,
   "metadata": {},
   "outputs": [
    {
     "data": {
      "text/html": [
       "<div>\n",
       "<style scoped>\n",
       "    .dataframe tbody tr th:only-of-type {\n",
       "        vertical-align: middle;\n",
       "    }\n",
       "\n",
       "    .dataframe tbody tr th {\n",
       "        vertical-align: top;\n",
       "    }\n",
       "\n",
       "    .dataframe thead th {\n",
       "        text-align: right;\n",
       "    }\n",
       "</style>\n",
       "<table border=\"1\" class=\"dataframe\">\n",
       "  <thead>\n",
       "    <tr style=\"text-align: right;\">\n",
       "      <th></th>\n",
       "      <th>Id</th>\n",
       "      <th>Split</th>\n",
       "      <th>Fold</th>\n",
       "      <th>Type(Full/Head/Unclean/Bad)</th>\n",
       "    </tr>\n",
       "  </thead>\n",
       "  <tbody>\n",
       "    <tr>\n",
       "      <th>37</th>\n",
       "      <td>./data/train-pats/pt_38</td>\n",
       "      <td>Train</td>\n",
       "      <td>Fold3</td>\n",
       "      <td>B</td>\n",
       "    </tr>\n",
       "    <tr>\n",
       "      <th>50</th>\n",
       "      <td>./data/train-pats/pt_51</td>\n",
       "      <td>Train</td>\n",
       "      <td>Fold0</td>\n",
       "      <td>B</td>\n",
       "    </tr>\n",
       "    <tr>\n",
       "      <th>88</th>\n",
       "      <td>./data/train-pats/pt_89</td>\n",
       "      <td>Train</td>\n",
       "      <td>Fold4</td>\n",
       "      <td>B</td>\n",
       "    </tr>\n",
       "    <tr>\n",
       "      <th>142</th>\n",
       "      <td>./data/train-pats/pt_143</td>\n",
       "      <td>Train</td>\n",
       "      <td>Fold1</td>\n",
       "      <td>B</td>\n",
       "    </tr>\n",
       "    <tr>\n",
       "      <th>169</th>\n",
       "      <td>./data/train-pats/pt_170</td>\n",
       "      <td>Train</td>\n",
       "      <td>Fold2</td>\n",
       "      <td>B</td>\n",
       "    </tr>\n",
       "    <tr>\n",
       "      <th>317</th>\n",
       "      <td>./data/test-pats/pt_318</td>\n",
       "      <td>MainTest</td>\n",
       "      <td>NaN</td>\n",
       "      <td>B</td>\n",
       "    </tr>\n",
       "    <tr>\n",
       "      <th>328</th>\n",
       "      <td>./data/test-pats/pt_329</td>\n",
       "      <td>MainTest</td>\n",
       "      <td>NaN</td>\n",
       "      <td>B</td>\n",
       "    </tr>\n",
       "  </tbody>\n",
       "</table>\n",
       "</div>"
      ],
      "text/plain": [
       "                           Id     Split   Fold Type(Full/Head/Unclean/Bad)\n",
       "37    ./data/train-pats/pt_38     Train  Fold3                           B\n",
       "50    ./data/train-pats/pt_51     Train  Fold0                           B\n",
       "88    ./data/train-pats/pt_89     Train  Fold4                           B\n",
       "142  ./data/train-pats/pt_143     Train  Fold1                           B\n",
       "169  ./data/train-pats/pt_170     Train  Fold2                           B\n",
       "317   ./data/test-pats/pt_318  MainTest    NaN                           B\n",
       "328   ./data/test-pats/pt_329  MainTest    NaN                           B"
      ]
     },
     "execution_count": 113,
     "metadata": {},
     "output_type": "execute_result"
    }
   ],
   "source": [
    "data_df[(data_df['Type(Full/Head/Unclean/Bad)'] == 'B')]"
   ]
  },
  {
   "cell_type": "code",
   "execution_count": 120,
   "metadata": {},
   "outputs": [
    {
     "data": {
      "text/plain": [
       "2.497245232400159"
      ]
     },
     "execution_count": 120,
     "metadata": {},
     "output_type": "execute_result"
    }
   ],
   "source": [
    "dose_score_vec.mean()"
   ]
  },
  {
   "cell_type": "code",
   "execution_count": 121,
   "metadata": {
    "scrolled": true
   },
   "outputs": [
    {
     "name": "stdout",
     "output_type": "stream",
     "text": [
      "(0, 1.2349217087570787)\n",
      "(1, 1.7532561885518647)\n",
      "(2, 2.251193877964016)\n",
      "(3, 2.7768590398721202)\n",
      "(4, 1.7549553366962207)\n",
      "(5, 2.380631559936884)\n",
      "(6, 1.8265931404743867)\n",
      "(7, 3.090139761651263)\n",
      "(8, 2.8152106350442856)\n",
      "(9, 2.655964207136281)\n",
      "(10, 2.9694565328071025)\n",
      "(11, 2.7599933192144865)\n",
      "(12, 1.5502286163160597)\n",
      "(13, 1.8955932296014992)\n",
      "(14, 3.9960151464009264)\n",
      "(15, 2.4035411757329355)\n",
      "(16, 1.5348567225979153)\n",
      "(17, 1.446111556123899)\n",
      "(18, 1.619229267163659)\n",
      "(19, 3.1184575911260417)\n",
      "(20, 1.6318483715681964)\n",
      "(21, 4.768546735580359)\n",
      "(22, 3.0708779843000826)\n",
      "(23, 2.3492414376819815)\n",
      "(24, 3.052025333716914)\n",
      "(25, 3.6953635119820887)\n",
      "(26, 1.5438840170229475)\n",
      "(27, 1.2362116133613765)\n",
      "(28, 2.417171485756602)\n",
      "(29, 2.0785746289267606)\n",
      "(30, 4.063980860934541)\n",
      "(31, 6.068216490792162)\n",
      "(32, 1.4716503475637297)\n",
      "(33, 2.300545882576846)\n",
      "(34, 2.8737244731405704)\n",
      "(35, 3.5381178744208985)\n",
      "(36, 2.7498605560423175)\n",
      "(37, 1.4565497933371654)\n",
      "(38, 1.5911320879783186)\n",
      "(39, 2.0990771961535786)\n"
     ]
    }
   ],
   "source": [
    "for i in enumerate(dose_score_vec):\n",
    "    print(i)"
   ]
  },
  {
   "cell_type": "code",
   "execution_count": null,
   "metadata": {},
   "outputs": [],
   "source": []
  },
  {
   "cell_type": "code",
   "execution_count": null,
   "metadata": {},
   "outputs": [],
   "source": []
  },
  {
   "cell_type": "markdown",
   "metadata": {},
   "source": [
    "## Test Predictions"
   ]
  },
  {
   "cell_type": "code",
   "execution_count": 28,
   "metadata": {},
   "outputs": [
    {
     "name": "stdout",
     "output_type": "stream",
     "text": [
      "Warning: Batch size has been changed to 1 for dose prediction mode\n"
     ]
    }
   ],
   "source": [
    "metric = 'dose'\n",
    "test_ds3D = KBPDataset3D(config, test_df, training=False)\n",
    "test_ds2D = None  # KBPDataset2D(config, test_df, training=False, valid=True)\n",
    "test_dl3D = DataLoader(test_ds3D, batch_size=1, shuffle=False, num_workers=config.num_workers)\n",
    "test_dl2D = None  # DataLoader(test_ds2D, batch_size=1, shuffle=False, num_workers=config.num_workers)"
   ]
  },
  {
   "cell_type": "code",
   "execution_count": 76,
   "metadata": {},
   "outputs": [],
   "source": [
    "config.exp_name = 'run164'  # 'run164'"
   ]
  },
  {
   "cell_type": "code",
   "execution_count": 77,
   "metadata": {},
   "outputs": [
    {
     "name": "stdout",
     "output_type": "stream",
     "text": [
      "Offset list:  [-4 -3 -2 -1  0  1  2  3  4]\n",
      "Loading offset m4m3m2m101234 from cache...\n",
      "Done inference! Making metrics...\n"
     ]
    }
   ],
   "source": [
    "offset_lists = [np.arange(-4,5)]\n",
    "dose_evaluator0 = EvaluateDose2D(config, net=net, data_loader=test_dl3D, dose_loader=test_dl2D, \n",
    "            offset_lists=offset_lists, load_cache=True, store_cache=False, cache_dir='test_fold0/{}/'.format(metric))"
   ]
  },
  {
   "cell_type": "code",
   "execution_count": 78,
   "metadata": {},
   "outputs": [
    {
     "name": "stdout",
     "output_type": "stream",
     "text": [
      "Offset list:  [-4 -3 -2 -1  0  1  2  3  4]\n",
      "Loading offset m4m3m2m101234 from cache...\n",
      "Done inference! Making metrics...\n"
     ]
    }
   ],
   "source": [
    "offset_lists = [np.arange(-4,5)]\n",
    "dose_evaluator1 = EvaluateDose2D(config, net=net, data_loader=test_dl3D, dose_loader=test_dl2D, \n",
    "            offset_lists=offset_lists, load_cache=True, store_cache=False, cache_dir='test_fold1/{}/'.format(metric))"
   ]
  },
  {
   "cell_type": "code",
   "execution_count": 99,
   "metadata": {},
   "outputs": [],
   "source": [
    "iidx = 1\n",
    "pdm = test_ds3D[iidx][1][1]['possible_dose_mask'][:,:,:,:,0]\n",
    "d0 = dose_evaluator0.preds[iidx] * pdm\n",
    "d1 = dose_evaluator1.preds[iidx] * pdm"
   ]
  },
  {
   "cell_type": "code",
   "execution_count": 100,
   "metadata": {},
   "outputs": [
    {
     "data": {
      "text/plain": [
       "1.0891290104906943"
      ]
     },
     "execution_count": 100,
     "metadata": {},
     "output_type": "execute_result"
    }
   ],
   "source": [
    "d0.mean()"
   ]
  },
  {
   "cell_type": "code",
   "execution_count": 101,
   "metadata": {},
   "outputs": [
    {
     "data": {
      "text/plain": [
       "1.0935037827607061"
      ]
     },
     "execution_count": 101,
     "metadata": {},
     "output_type": "execute_result"
    }
   ],
   "source": [
    "d1.mean()"
   ]
  },
  {
   "cell_type": "code",
   "execution_count": 102,
   "metadata": {},
   "outputs": [
    {
     "data": {
      "text/plain": [
       "0.643119038219804"
      ]
     },
     "execution_count": 102,
     "metadata": {},
     "output_type": "execute_result"
    }
   ],
   "source": [
    "np.abs(d0 - d1).mean()/pdm.mean()"
   ]
  },
  {
   "cell_type": "code",
   "execution_count": null,
   "metadata": {},
   "outputs": [],
   "source": []
  },
  {
   "cell_type": "code",
   "execution_count": null,
   "metadata": {},
   "outputs": [],
   "source": []
  },
  {
   "cell_type": "code",
   "execution_count": null,
   "metadata": {},
   "outputs": [],
   "source": []
  },
  {
   "cell_type": "code",
   "execution_count": null,
   "metadata": {},
   "outputs": [],
   "source": []
  },
  {
   "cell_type": "code",
   "execution_count": null,
   "metadata": {},
   "outputs": [],
   "source": []
  },
  {
   "cell_type": "code",
   "execution_count": null,
   "metadata": {},
   "outputs": [],
   "source": []
  },
  {
   "cell_type": "code",
   "execution_count": 12,
   "metadata": {},
   "outputs": [],
   "source": [
    "import sys\n",
    "del sys.modules['utils.dataloader2D'], resample\n",
    "from utils.dataloader2D import resample"
   ]
  },
  {
   "cell_type": "code",
   "execution_count": 13,
   "metadata": {},
   "outputs": [],
   "source": [
    "dose_batch = valid_ds2D.defdataset.get_batch(index=12)\n",
    "img = dose_batch['ct'][:,:,:,:,0]\n",
    "target = dose_batch['dose'][:,:,:,:,0]\n",
    "voxel_sz = dose_batch['voxel_dimensions']"
   ]
  },
  {
   "cell_type": "code",
   "execution_count": 14,
   "metadata": {},
   "outputs": [
    {
     "data": {
      "text/plain": [
       "<matplotlib.image.AxesImage at 0x7f9d06cc7198>"
      ]
     },
     "execution_count": 14,
     "metadata": {},
     "output_type": "execute_result"
    },
    {
     "data": {
      "image/png": "[encoded data removed]",
      "text/plain": [
       "<Figure size 432x288 with 1 Axes>"
      ]
     },
     "metadata": {
      "needs_background": "light"
     },
     "output_type": "display_data"
    }
   ],
   "source": [
    "%matplotlib inline\n",
    "plt.imshow(target[0,:,:,76])"
   ]
  },
  {
   "cell_type": "code",
   "execution_count": 15,
   "metadata": {},
   "outputs": [],
   "source": [
    "targetrs = resample(target, voxel_sz, config.resample)"
   ]
  },
  {
   "cell_type": "code",
   "execution_count": 16,
   "metadata": {},
   "outputs": [
    {
     "data": {
      "text/plain": [
       "<matplotlib.image.AxesImage at 0x7f9d06c86f60>"
      ]
     },
     "execution_count": 16,
     "metadata": {},
     "output_type": "execute_result"
    },
    {
     "data": {
      "image/png": "[encoded data removed]",
      "text/plain": [
       "<Figure size 432x288 with 1 Axes>"
      ]
     },
     "metadata": {
      "needs_background": "light"
     },
     "output_type": "display_data"
    }
   ],
   "source": [
    "%matplotlib inline\n",
    "plt.imshow(targetrs[0,:,:,76])"
   ]
  },
  {
   "cell_type": "code",
   "execution_count": 17,
   "metadata": {},
   "outputs": [],
   "source": [
    "targetos = resample(targetrs, config.resample, voxel_sz)"
   ]
  },
  {
   "cell_type": "code",
   "execution_count": 18,
   "metadata": {},
   "outputs": [
    {
     "data": {
      "text/plain": [
       "<matplotlib.image.AxesImage at 0x7f9d0650aa20>"
      ]
     },
     "execution_count": 18,
     "metadata": {},
     "output_type": "execute_result"
    },
    {
     "data": {
      "image/png": "[encoded data removed]",
      "text/plain": [
       "<Figure size 432x288 with 1 Axes>"
      ]
     },
     "metadata": {
      "needs_background": "light"
     },
     "output_type": "display_data"
    }
   ],
   "source": [
    "%matplotlib inline\n",
    "plt.imshow(targetos[0,:,:,76])"
   ]
  },
  {
   "cell_type": "code",
   "execution_count": 20,
   "metadata": {},
   "outputs": [
    {
     "data": {
      "text/plain": [
       "(262146, 263908)"
      ]
     },
     "execution_count": 20,
     "metadata": {},
     "output_type": "execute_result"
    }
   ],
   "source": [
    "(target>0).sum(), (targetos>0).sum()"
   ]
  },
  {
   "cell_type": "code",
   "execution_count": 22,
   "metadata": {},
   "outputs": [
    {
     "data": {
      "text/plain": [
       "0.2870138101577759"
      ]
     },
     "execution_count": 22,
     "metadata": {},
     "output_type": "execute_result"
    }
   ],
   "source": [
    "np.abs(target-targetos).mean()"
   ]
  },
  {
   "cell_type": "code",
   "execution_count": null,
   "metadata": {},
   "outputs": [],
   "source": []
  },
  {
   "cell_type": "code",
   "execution_count": null,
   "metadata": {},
   "outputs": [],
   "source": []
  },
  {
   "cell_type": "markdown",
   "metadata": {},
   "source": [
    "## Data Augmentation"
   ]
  },
  {
   "cell_type": "code",
   "execution_count": 3,
   "metadata": {},
   "outputs": [
    {
     "name": "stdout",
     "output_type": "stream",
     "text": [
      "not deleting\n"
     ]
    }
   ],
   "source": [
    "# from albumentations.core.transforms_interface import DualTransform, to_tuple\n",
    "try:\n",
    "    del sys.modules['utils.preprocessing2D'], get_train_tfms, MonaiElastic, MonaiAffine, HorizontalFlip, RandomScale, RandomShift, RandomRotate, MultiplicativeNoise, Presize, Diffeomorph\n",
    "    del sys.modules['utils.dataloader2D'], transform_item2D, KBPDataset2D\n",
    "except:\n",
    "    print('not deleting')\n",
    "os.chdir(os.getcwd())\n",
    "from utils.preprocessing2D import get_train_tfms, MonaiElastic, MonaiAffine, HorizontalFlip, RandomScale, RandomShift, RandomRotate, MultiplicativeNoise, Presize, Diffeomorph\n",
    "from utils.dataloader2D import transform_item2D, KBPDataset2D\n",
    "\n",
    "from albumentations import Compose, to_tuple, OneOf"
   ]
  },
  {
   "cell_type": "code",
   "execution_count": 101,
   "metadata": {},
   "outputs": [],
   "source": [
    "aug = HorizontalFlip(config.axis)"
   ]
  },
  {
   "cell_type": "code",
   "execution_count": 11,
   "metadata": {},
   "outputs": [],
   "source": [
    "aug = RandomScale(scale_limit=0.5)"
   ]
  },
  {
   "cell_type": "code",
   "execution_count": 161,
   "metadata": {},
   "outputs": [],
   "source": [
    "aug = RandomShift(shift_limit=20)"
   ]
  },
  {
   "cell_type": "code",
   "execution_count": 226,
   "metadata": {},
   "outputs": [],
   "source": [
    "aug = RandomRotate(max_angle=20)"
   ]
  },
  {
   "cell_type": "code",
   "execution_count": 47,
   "metadata": {},
   "outputs": [],
   "source": [
    "aug = MultiplicativeNoise(elementwise=False)"
   ]
  },
  {
   "cell_type": "code",
   "execution_count": 4,
   "metadata": {},
   "outputs": [],
   "source": [
    "aug = Presize(zoom_limit=2)"
   ]
  },
  {
   "cell_type": "code",
   "execution_count": 13,
   "metadata": {},
   "outputs": [],
   "source": [
    "aug = Diffeomorph(p=1)"
   ]
  },
  {
   "cell_type": "code",
   "execution_count": 4,
   "metadata": {},
   "outputs": [],
   "source": [
    "aug = MonaiAffine(p=1)"
   ]
  },
  {
   "cell_type": "code",
   "execution_count": 4,
   "metadata": {},
   "outputs": [],
   "source": [
    "aug = MonaiElastic(p=1)"
   ]
  },
  {
   "cell_type": "code",
   "execution_count": 32,
   "metadata": {},
   "outputs": [],
   "source": [
    "aug = Compose([\n",
    "    HorizontalFlip(config.axis),\n",
    "#     Presize(zoom_limit=2), \n",
    "    RandomScale(scale_limit=0.2),\n",
    "    RandomShift(shift_limit=4),\n",
    "    RandomRotate(max_angle=3),\n",
    "    Diffeomorph()\n",
    "])"
   ]
  },
  {
   "cell_type": "code",
   "execution_count": 4,
   "metadata": {},
   "outputs": [],
   "source": [
    "aug = get_train_tfms(config)"
   ]
  },
  {
   "cell_type": "code",
   "execution_count": 5,
   "metadata": {},
   "outputs": [
    {
     "name": "stdout",
     "output_type": "stream",
     "text": [
      "Loading data along axis: 3\n"
     ]
    },
    {
     "data": {
      "text/html": [
       "\n",
       "    <div>\n",
       "        <style>\n",
       "            /* Turns off some styling */\n",
       "            progress {\n",
       "                /* gets rid of default border in Firefox and Opera. */\n",
       "                border: none;\n",
       "                /* Needs to be in here for Safari polyfill so background images work as expected. */\n",
       "                background-size: auto;\n",
       "            }\n",
       "            .progress-bar-interrupted, .progress-bar-interrupted::-webkit-progress-bar {\n",
       "                background: #F44336;\n",
       "            }\n",
       "        </style>\n",
       "      <progress value='5' class='' max='5', style='width:300px; height:20px; vertical-align: middle;'></progress>\n",
       "      100.00% [5/5 00:01<00:00]\n",
       "    </div>\n",
       "    "
      ],
      "text/plain": [
       "<IPython.core.display.HTML object>"
      ]
     },
     "metadata": {},
     "output_type": "display_data"
    }
   ],
   "source": [
    "train_ds = KBPDataset2D(config, train_df[:5])"
   ]
  },
  {
   "cell_type": "code",
   "execution_count": 9,
   "metadata": {},
   "outputs": [
    {
     "name": "stdout",
     "output_type": "stream",
     "text": [
      "6600794.0 6515053.0\n",
      "2713.0 2713.0\n"
     ]
    },
    {
     "data": {
      "text/plain": [
       "<matplotlib.image.AxesImage at 0x7fe0b575f518>"
      ]
     },
     "execution_count": 9,
     "metadata": {},
     "output_type": "execute_result"
    },
    {
     "data": {
      "image/png": "[encoded data removed]",
      "text/plain": [
       "<Figure size 864x864 with 2 Axes>"
      ]
     },
     "metadata": {
      "needs_background": "light"
     },
     "output_type": "display_data"
    }
   ],
   "source": [
    "iidx = 0\n",
    "idx= 57\n",
    "train_ds.transform = None\n",
    "img, (target, possible_dose_mask, structure_masks, voxel_size, _) = train_ds[iidx*128 + idx]\n",
    "train_ds.transform = aug\n",
    "tfimg, (tftarget, tfpossible_dose_mask, tfstructure_masks, tfvoxel_size, _) = train_ds[iidx*128 + idx]\n",
    "fig, ax = plt.subplots(nrows=1, ncols=2, figsize=(12,12))\n",
    "print(img.sum(), tfimg.sum())\n",
    "print(img.max(), tfimg.max())\n",
    "ax[0].imshow(img[0])\n",
    "ax[1].imshow(tfimg[0])"
   ]
  },
  {
   "cell_type": "code",
   "execution_count": 10,
   "metadata": {},
   "outputs": [
    {
     "name": "stdout",
     "output_type": "stream",
     "text": [
      "False\n",
      "False\n",
      "False\n",
      "False\n",
      "CPU times: user 2.68 ms, sys: 316 µs, total: 2.99 ms\n",
      "Wall time: 1.87 ms\n"
     ]
    }
   ],
   "source": [
    "%%time\n",
    "print(np.array_equal(tfimg, img))\n",
    "print(np.array_equal(tftarget, target))\n",
    "print(np.array_equal(tfpossible_dose_mask, possible_dose_mask))\n",
    "print(np.array_equal(tfstructure_masks, structure_masks))"
   ]
  },
  {
   "cell_type": "code",
   "execution_count": 11,
   "metadata": {},
   "outputs": [
    {
     "data": {
      "text/plain": [
       "(84, 128, 128)"
      ]
     },
     "execution_count": 11,
     "metadata": {},
     "output_type": "execute_result"
    }
   ],
   "source": [
    "tfimg.shape"
   ]
  },
  {
   "cell_type": "code",
   "execution_count": 18,
   "metadata": {},
   "outputs": [
    {
     "name": "stdout",
     "output_type": "stream",
     "text": [
      "148 1\n",
      "148 1\n"
     ]
    },
    {
     "data": {
      "text/plain": [
       "<matplotlib.image.AxesImage at 0x7fe0b51af828>"
      ]
     },
     "execution_count": 18,
     "metadata": {},
     "output_type": "execute_result"
    },
    {
     "data": {
      "image/png": "[encoded data removed]",
      "text/plain": [
       "<Figure size 864x864 with 2 Axes>"
      ]
     },
     "metadata": {
      "needs_background": "light"
     },
     "output_type": "display_data"
    }
   ],
   "source": [
    "ch = 21\n",
    "print(img[ch].sum().astype('int'), img[ch].max().astype('int'))\n",
    "print(tfimg[ch].sum().astype('int'), tfimg[ch].max().astype('int'))\n",
    "fig, ax = plt.subplots(nrows=1, ncols=2, figsize=(12,12))\n",
    "ax[0].imshow(img[ch])\n",
    "ax[1].imshow(tfimg[ch])"
   ]
  },
  {
   "cell_type": "code",
   "execution_count": 13,
   "metadata": {},
   "outputs": [
    {
     "name": "stdout",
     "output_type": "stream",
     "text": [
      "48691.47 72.458\n",
      "48121.27 72.458\n"
     ]
    },
    {
     "data": {
      "text/plain": [
       "<matplotlib.image.AxesImage at 0x7fe0b55dcef0>"
      ]
     },
     "execution_count": 13,
     "metadata": {},
     "output_type": "execute_result"
    },
    {
     "data": {
      "image/png": "[encoded data removed]",
      "text/plain": [
       "<Figure size 864x864 with 2 Axes>"
      ]
     },
     "metadata": {
      "needs_background": "light"
     },
     "output_type": "display_data"
    }
   ],
   "source": [
    "print(target[0].sum(), target[0].max())\n",
    "print(tftarget[0].sum(), tftarget[0].max())\n",
    "fig, ax = plt.subplots(nrows=1, ncols=2, figsize=(12,12))\n",
    "ax[0].imshow(target[0])\n",
    "ax[1].imshow(tftarget[0])"
   ]
  },
  {
   "cell_type": "code",
   "execution_count": 14,
   "metadata": {},
   "outputs": [
    {
     "name": "stdout",
     "output_type": "stream",
     "text": [
      "1059.0 1.0\n",
      "1047.0 1.0\n"
     ]
    },
    {
     "data": {
      "text/plain": [
       "<matplotlib.image.AxesImage at 0x7fe0b551efd0>"
      ]
     },
     "execution_count": 14,
     "metadata": {},
     "output_type": "execute_result"
    },
    {
     "data": {
      "image/png": "[encoded data removed]",
      "text/plain": [
       "<Figure size 864x864 with 2 Axes>"
      ]
     },
     "metadata": {
      "needs_background": "light"
     },
     "output_type": "display_data"
    }
   ],
   "source": [
    "print(possible_dose_mask[0].sum(), possible_dose_mask[0].max())\n",
    "print(tfpossible_dose_mask[0].sum(), tfpossible_dose_mask[0].max())\n",
    "fig, ax = plt.subplots(nrows=1, ncols=2, figsize=(12,12))\n",
    "ax[0].imshow(possible_dose_mask[0])\n",
    "ax[1].imshow(tfpossible_dose_mask[0])"
   ]
  },
  {
   "cell_type": "code",
   "execution_count": 15,
   "metadata": {},
   "outputs": [
    {
     "name": "stdout",
     "output_type": "stream",
     "text": [
      "111.0 1.0\n",
      "114.0 1.0\n"
     ]
    },
    {
     "data": {
      "text/plain": [
       "<matplotlib.image.AxesImage at 0x7fe0b53ec240>"
      ]
     },
     "execution_count": 15,
     "metadata": {},
     "output_type": "execute_result"
    },
    {
     "data": {
      "image/png": "[encoded data removed]",
      "text/plain": [
       "<Figure size 864x864 with 2 Axes>"
      ]
     },
     "metadata": {
      "needs_background": "light"
     },
     "output_type": "display_data"
    }
   ],
   "source": [
    "ch = 7\n",
    "print(structure_masks[ch].sum(), structure_masks[ch].max())\n",
    "print(tfstructure_masks[ch].sum(), tfstructure_masks[ch].max())\n",
    "fig, ax = plt.subplots(nrows=1, ncols=2, figsize=(12,12))\n",
    "ax[0].imshow(structure_masks[ch])\n",
    "ax[1].imshow(tfstructure_masks[ch])"
   ]
  },
  {
   "cell_type": "code",
   "execution_count": 79,
   "metadata": {},
   "outputs": [
    {
     "data": {
      "application/vnd.jupyter.widget-view+json": {
       "model_id": "81bfc01df9a64feba7c870bd08012713",
       "version_major": 2,
       "version_minor": 0
      },
      "text/plain": [
       "HBox(children=(FloatProgress(value=0.0, max=160.0), HTML(value='')))"
      ]
     },
     "metadata": {},
     "output_type": "display_data"
    },
    {
     "name": "stdout",
     "output_type": "stream",
     "text": [
      "\n"
     ]
    },
    {
     "data": {
      "text/plain": [
       "(28036.0, 88.15740192532539)"
      ]
     },
     "execution_count": 79,
     "metadata": {},
     "output_type": "execute_result"
    }
   ],
   "source": [
    "mean = 0\n",
    "maxv = 0\n",
    "vals = []\n",
    "tarvals = []\n",
    "for idx in tqdm(range(len(train_ds))):\n",
    "    img, (target, possible_dose_mask, structure_masks, voxel_size, idx) = train_ds[idx]\n",
    "    mean += img.mean()\n",
    "    maxv = max(maxv, img.max())\n",
    "    vals.append(img.flatten())\n",
    "    tarvals.append(target.flatten())\n",
    "mean /= len(train_ds)\n",
    "maxv, mean"
   ]
  },
  {
   "cell_type": "code",
   "execution_count": 80,
   "metadata": {},
   "outputs": [],
   "source": [
    "valscomb = np.array(vals).flatten()\n",
    "tarcomb = np.array(tarvals).flatten()"
   ]
  },
  {
   "cell_type": "code",
   "execution_count": 66,
   "metadata": {},
   "outputs": [],
   "source": [
    "nzind = np.where(valscomb != 0)\n",
    "valsnz = np.array(valscomb[nzind])"
   ]
  },
  {
   "cell_type": "code",
   "execution_count": 82,
   "metadata": {},
   "outputs": [],
   "source": [
    "tnzind = np.where(tarcomb != 0)\n",
    "tvalsnz = np.array(tarcomb[tnzind])"
   ]
  },
  {
   "cell_type": "code",
   "execution_count": 73,
   "metadata": {},
   "outputs": [
    {
     "data": {
      "text/plain": [
       "(array([4.5009530e+06, 9.9888800e+05, 8.7306000e+05, 2.2487894e+07,\n",
       "        2.0191410e+06, 8.0731500e+05, 4.3645500e+05, 2.8768000e+05,\n",
       "        1.6468200e+05, 3.2326000e+04, 5.4150000e+03, 2.3470000e+03,\n",
       "        1.2510000e+03, 9.3200000e+02, 6.3080000e+03, 5.1000000e+01,\n",
       "        4.9000000e+01, 2.6700000e+02, 1.6000000e+01, 2.0000000e+01,\n",
       "        2.1000000e+01, 1.3000000e+01, 1.5000000e+01, 1.6000000e+01,\n",
       "        7.0000000e+00, 1.0000000e+01, 8.0000000e+00, 1.0000000e+01,\n",
       "        7.0000000e+00, 8.0000000e+00, 6.0000000e+00, 3.0000000e+00,\n",
       "        1.5000000e+01, 4.0000000e+00, 4.0000000e+00, 7.0000000e+00,\n",
       "        9.0000000e+00, 4.0000000e+00, 5.0000000e+00, 5.0000000e+00,\n",
       "        4.0000000e+00, 4.0000000e+00, 5.0000000e+00, 3.0000000e+00,\n",
       "        3.0000000e+00, 5.0000000e+00, 7.0000000e+00, 7.0000000e+00,\n",
       "        3.0000000e+00, 5.0000000e+00, 4.0000000e+00, 3.0000000e+00,\n",
       "        3.0000000e+00, 3.0000000e+00, 3.0000000e+00, 2.0000000e+00,\n",
       "        4.0000000e+00, 3.0000000e+00, 4.0000000e+00, 1.0000000e+00,\n",
       "        3.0000000e+00, 1.0000000e+00, 1.0000000e+00, 0.0000000e+00,\n",
       "        0.0000000e+00, 2.0000000e+00, 2.0000000e+00, 1.0000000e+00,\n",
       "        1.0000000e+00, 2.0000000e+00, 1.0000000e+00, 3.0000000e+00,\n",
       "        1.0000000e+00, 0.0000000e+00, 1.0000000e+00, 2.0000000e+00,\n",
       "        0.0000000e+00, 0.0000000e+00, 1.0000000e+00, 0.0000000e+00,\n",
       "        1.0000000e+00, 0.0000000e+00, 3.0000000e+00, 2.0000000e+00,\n",
       "        1.0000000e+00, 1.0000000e+00, 0.0000000e+00, 0.0000000e+00,\n",
       "        0.0000000e+00, 1.0000000e+00, 0.0000000e+00, 0.0000000e+00,\n",
       "        0.0000000e+00, 0.0000000e+00, 1.0000000e+00, 0.0000000e+00,\n",
       "        1.0000000e+00, 0.0000000e+00, 0.0000000e+00, 1.0000000e+00]),\n",
       " array([1.000000e+00, 2.813500e+02, 5.617000e+02, 8.420500e+02,\n",
       "        1.122400e+03, 1.402750e+03, 1.683100e+03, 1.963450e+03,\n",
       "        2.243800e+03, 2.524150e+03, 2.804500e+03, 3.084850e+03,\n",
       "        3.365200e+03, 3.645550e+03, 3.925900e+03, 4.206250e+03,\n",
       "        4.486600e+03, 4.766950e+03, 5.047300e+03, 5.327650e+03,\n",
       "        5.608000e+03, 5.888350e+03, 6.168700e+03, 6.449050e+03,\n",
       "        6.729400e+03, 7.009750e+03, 7.290100e+03, 7.570450e+03,\n",
       "        7.850800e+03, 8.131150e+03, 8.411500e+03, 8.691850e+03,\n",
       "        8.972200e+03, 9.252550e+03, 9.532900e+03, 9.813250e+03,\n",
       "        1.009360e+04, 1.037395e+04, 1.065430e+04, 1.093465e+04,\n",
       "        1.121500e+04, 1.149535e+04, 1.177570e+04, 1.205605e+04,\n",
       "        1.233640e+04, 1.261675e+04, 1.289710e+04, 1.317745e+04,\n",
       "        1.345780e+04, 1.373815e+04, 1.401850e+04, 1.429885e+04,\n",
       "        1.457920e+04, 1.485955e+04, 1.513990e+04, 1.542025e+04,\n",
       "        1.570060e+04, 1.598095e+04, 1.626130e+04, 1.654165e+04,\n",
       "        1.682200e+04, 1.710235e+04, 1.738270e+04, 1.766305e+04,\n",
       "        1.794340e+04, 1.822375e+04, 1.850410e+04, 1.878445e+04,\n",
       "        1.906480e+04, 1.934515e+04, 1.962550e+04, 1.990585e+04,\n",
       "        2.018620e+04, 2.046655e+04, 2.074690e+04, 2.102725e+04,\n",
       "        2.130760e+04, 2.158795e+04, 2.186830e+04, 2.214865e+04,\n",
       "        2.242900e+04, 2.270935e+04, 2.298970e+04, 2.327005e+04,\n",
       "        2.355040e+04, 2.383075e+04, 2.411110e+04, 2.439145e+04,\n",
       "        2.467180e+04, 2.495215e+04, 2.523250e+04, 2.551285e+04,\n",
       "        2.579320e+04, 2.607355e+04, 2.635390e+04, 2.663425e+04,\n",
       "        2.691460e+04, 2.719495e+04, 2.747530e+04, 2.775565e+04,\n",
       "        2.803600e+04], dtype=float32),\n",
       " <a list of 100 Patch objects>)"
      ]
     },
     "execution_count": 73,
     "metadata": {},
     "output_type": "execute_result"
    },
    {
     "data": {
      "image/png": "[encoded data removed]",
      "text/plain": [
       "<Figure size 432x288 with 1 Axes>"
      ]
     },
     "metadata": {
      "needs_background": "light"
     },
     "output_type": "display_data"
    }
   ],
   "source": [
    "plt.hist(valsnz, bins=100)"
   ]
  },
  {
   "cell_type": "code",
   "execution_count": 83,
   "metadata": {},
   "outputs": [
    {
     "data": {
      "text/plain": [
       "(array([5.022759e+06, 9.328430e+05, 7.601350e+05, 5.884120e+05,\n",
       "        4.670710e+05, 3.849150e+05, 3.305120e+05, 2.949960e+05,\n",
       "        2.760980e+05, 2.640850e+05, 2.550350e+05, 2.459110e+05,\n",
       "        2.391600e+05, 2.341000e+05, 2.313400e+05, 2.298070e+05,\n",
       "        2.304060e+05, 2.313760e+05, 2.295680e+05, 2.267750e+05,\n",
       "        2.250440e+05, 2.249310e+05, 2.255570e+05, 2.236790e+05,\n",
       "        2.214590e+05, 2.192270e+05, 2.166310e+05, 2.127050e+05,\n",
       "        2.099190e+05, 2.046070e+05, 1.982670e+05, 1.921990e+05,\n",
       "        1.864010e+05, 1.794540e+05, 1.741080e+05, 1.681720e+05,\n",
       "        1.632560e+05, 1.581630e+05, 1.545910e+05, 1.509650e+05,\n",
       "        1.470040e+05, 1.441240e+05, 1.415870e+05, 1.399530e+05,\n",
       "        1.373260e+05, 1.351200e+05, 1.340110e+05, 1.327090e+05,\n",
       "        1.304840e+05, 1.291170e+05, 1.278560e+05, 1.249740e+05,\n",
       "        1.233370e+05, 1.213100e+05, 1.200010e+05, 1.183260e+05,\n",
       "        1.164360e+05, 1.154900e+05, 1.149600e+05, 1.147690e+05,\n",
       "        1.142320e+05, 1.143170e+05, 1.144740e+05, 1.133110e+05,\n",
       "        1.146540e+05, 1.168120e+05, 1.197360e+05, 1.239250e+05,\n",
       "        1.305520e+05, 1.404470e+05, 1.652340e+05, 2.254540e+05,\n",
       "        2.495550e+05, 2.081100e+05, 1.704890e+05, 1.408780e+05,\n",
       "        1.201460e+05, 1.079580e+05, 1.097380e+05, 1.124070e+05,\n",
       "        1.126000e+05, 9.778900e+04, 9.031600e+04, 8.954200e+04,\n",
       "        9.368900e+04, 1.101220e+05, 1.324550e+05, 1.581210e+05,\n",
       "        2.419330e+05, 3.182750e+05, 1.604440e+05, 7.908000e+04,\n",
       "        4.673200e+04, 2.461700e+04, 1.402700e+04, 8.426000e+03,\n",
       "        4.702000e+03, 2.310000e+03, 8.810000e+02, 3.040000e+02]),\n",
       " array([1.0000000e-03, 8.0096000e-01, 1.6009201e+00, 2.4008801e+00,\n",
       "        3.2008400e+00, 4.0008001e+00, 4.8007603e+00, 5.6007199e+00,\n",
       "        6.4006801e+00, 7.2006402e+00, 8.0005999e+00, 8.8005600e+00,\n",
       "        9.6005201e+00, 1.0400480e+01, 1.1200440e+01, 1.2000401e+01,\n",
       "        1.2800361e+01, 1.3600320e+01, 1.4400280e+01, 1.5200240e+01,\n",
       "        1.6000200e+01, 1.6800159e+01, 1.7600121e+01, 1.8400080e+01,\n",
       "        1.9200041e+01, 2.0000000e+01, 2.0799961e+01, 2.1599920e+01,\n",
       "        2.2399881e+01, 2.3199841e+01, 2.3999800e+01, 2.4799761e+01,\n",
       "        2.5599720e+01, 2.6399681e+01, 2.7199640e+01, 2.7999601e+01,\n",
       "        2.8799561e+01, 2.9599520e+01, 3.0399481e+01, 3.1199440e+01,\n",
       "        3.1999401e+01, 3.2799362e+01, 3.3599319e+01, 3.4399281e+01,\n",
       "        3.5199242e+01, 3.5999199e+01, 3.6799160e+01, 3.7599121e+01,\n",
       "        3.8399082e+01, 3.9199039e+01, 3.9999001e+01, 4.0798962e+01,\n",
       "        4.1598923e+01, 4.2398880e+01, 4.3198841e+01, 4.3998802e+01,\n",
       "        4.4798759e+01, 4.5598721e+01, 4.6398682e+01, 4.7198643e+01,\n",
       "        4.7998600e+01, 4.8798561e+01, 4.9598522e+01, 5.0398479e+01,\n",
       "        5.1198441e+01, 5.1998402e+01, 5.2798363e+01, 5.3598320e+01,\n",
       "        5.4398281e+01, 5.5198242e+01, 5.5998199e+01, 5.6798161e+01,\n",
       "        5.7598122e+01, 5.8398083e+01, 5.9198040e+01, 5.9998001e+01,\n",
       "        6.0797962e+01, 6.1597919e+01, 6.2397881e+01, 6.3197842e+01,\n",
       "        6.3997803e+01, 6.4797760e+01, 6.5597725e+01, 6.6397682e+01,\n",
       "        6.7197639e+01, 6.7997604e+01, 6.8797562e+01, 6.9597519e+01,\n",
       "        7.0397484e+01, 7.1197441e+01, 7.1997398e+01, 7.2797363e+01,\n",
       "        7.3597321e+01, 7.4397278e+01, 7.5197243e+01, 7.5997200e+01,\n",
       "        7.6797165e+01, 7.7597122e+01, 7.8397079e+01, 7.9197044e+01,\n",
       "        7.9997002e+01], dtype=float32),\n",
       " <a list of 100 Patch objects>)"
      ]
     },
     "execution_count": 83,
     "metadata": {},
     "output_type": "execute_result"
    },
    {
     "data": {
      "image/png": "[encoded data removed]",
      "text/plain": [
       "<Figure size 432x288 with 1 Axes>"
      ]
     },
     "metadata": {
      "needs_background": "light"
     },
     "output_type": "display_data"
    }
   ],
   "source": [
    "plt.hist(tvalsnz, bins=100)"
   ]
  },
  {
   "cell_type": "code",
   "execution_count": 81,
   "metadata": {},
   "outputs": [
    {
     "data": {
      "text/plain": [
       "array([0., 0., 0., ..., 0., 0., 0.], dtype=float32)"
      ]
     },
     "execution_count": 81,
     "metadata": {},
     "output_type": "execute_result"
    }
   ],
   "source": [
    "tarcomb"
   ]
  },
  {
   "cell_type": "code",
   "execution_count": 84,
   "metadata": {},
   "outputs": [
    {
     "data": {
      "text/plain": [
       "74.233"
      ]
     },
     "execution_count": 84,
     "metadata": {},
     "output_type": "execute_result"
    }
   ],
   "source": [
    "valid_ds[0][1][0].max()"
   ]
  },
  {
   "cell_type": "code",
   "execution_count": null,
   "metadata": {},
   "outputs": [],
   "source": []
  }
 ],
 "metadata": {
  "kernelspec": {
   "display_name": "Python [conda env:dl]",
   "language": "python",
   "name": "conda-env-dl-py"
  },
  "language_info": {
   "codemirror_mode": {
    "name": "ipython",
    "version": 3
   },
   "file_extension": ".py",
   "mimetype": "text/x-python",
   "name": "python",
   "nbconvert_exporter": "python",
   "pygments_lexer": "ipython3",
   "version": "3.7.6"
  }
 },
 "nbformat": 4,
 "nbformat_minor": 4
}
